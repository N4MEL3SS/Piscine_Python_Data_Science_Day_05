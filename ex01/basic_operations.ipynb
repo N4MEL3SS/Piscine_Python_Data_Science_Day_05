{
 "cells": [
  {
   "cell_type": "markdown",
   "metadata": {
    "collapsed": true
   },
   "source": [
    "# EX01 Basic operations"
   ]
  },
  {
   "cell_type": "code",
   "execution_count": 1,
   "outputs": [],
   "source": [
    "import pandas as pd"
   ],
   "metadata": {
    "collapsed": false
   }
  },
  {
   "cell_type": "markdown",
   "source": [
    "## Create a dataframe"
   ],
   "metadata": {
    "collapsed": false
   }
  },
  {
   "cell_type": "code",
   "execution_count": 2,
   "outputs": [],
   "source": [
    "df = pd.read_csv(\"../data/feed-views.log\", names=(\"datatime\", \"user\"), sep=\"\\t\")"
   ],
   "metadata": {
    "collapsed": false
   }
  },
  {
   "cell_type": "code",
   "execution_count": 3,
   "outputs": [
    {
     "name": "stdout",
     "output_type": "stream",
     "text": [
      "<class 'pandas.core.frame.DataFrame'>\n",
      "RangeIndex: 1076 entries, 0 to 1075\n",
      "Data columns (total 2 columns):\n",
      " #   Column    Non-Null Count  Dtype \n",
      "---  ------    --------------  ----- \n",
      " 0   datatime  1076 non-null   object\n",
      " 1   user      1076 non-null   object\n",
      "dtypes: object(2)\n",
      "memory usage: 16.9+ KB\n"
     ]
    }
   ],
   "source": [
    "df.info()"
   ],
   "metadata": {
    "collapsed": false
   }
  },
  {
   "cell_type": "markdown",
   "source": [
    "## Convert `datatime`"
   ],
   "metadata": {
    "collapsed": false
   }
  },
  {
   "cell_type": "code",
   "execution_count": 4,
   "outputs": [],
   "source": [
    "df[\"datatime\"] = pd.to_datetime(df[\"datatime\"])\n",
    "df[\"year\"] = df[\"datatime\"].dt.year\n",
    "df[\"month\"] = df[\"datatime\"].dt.month\n",
    "df[\"day\"] = df[\"datatime\"].dt.day\n",
    "df[\"hour\"] = df[\"datatime\"].dt.hour\n",
    "df[\"minute\"] = df[\"datatime\"].dt.minute\n",
    "df[\"second\"] = df[\"datatime\"].dt.second"
   ],
   "metadata": {
    "collapsed": false
   }
  },
  {
   "cell_type": "code",
   "execution_count": 5,
   "outputs": [
    {
     "data": {
      "text/plain": "                       datatime       user  year  month  day  hour  minute  \\\n0    2020-04-17 12:01:08.463179      artem  2020      4   17    12       1   \n1    2020-04-17 12:01:23.743946      artem  2020      4   17    12       1   \n2    2020-04-17 12:27:30.646665      artem  2020      4   17    12      27   \n3    2020-04-17 12:35:44.884757      artem  2020      4   17    12      35   \n4    2020-04-17 12:35:52.735016      artem  2020      4   17    12      35   \n...                         ...        ...   ...    ...  ...   ...     ...   \n1071 2020-05-21 18:45:20.441142  valentina  2020      5   21    18      45   \n1072 2020-05-21 23:03:06.457819      maxim  2020      5   21    23       3   \n1073 2020-05-21 23:23:49.995349      pavel  2020      5   21    23      23   \n1074 2020-05-21 23:49:22.386789      artem  2020      5   21    23      49   \n1075 2020-05-22 10:36:14.662600      artem  2020      5   22    10      36   \n\n      second  \n0          8  \n1         23  \n2         30  \n3         44  \n4         52  \n...      ...  \n1071      20  \n1072       6  \n1073      49  \n1074      22  \n1075      14  \n\n[1076 rows x 8 columns]",
      "text/html": "<div>\n<style scoped>\n    .dataframe tbody tr th:only-of-type {\n        vertical-align: middle;\n    }\n\n    .dataframe tbody tr th {\n        vertical-align: top;\n    }\n\n    .dataframe thead th {\n        text-align: right;\n    }\n</style>\n<table border=\"1\" class=\"dataframe\">\n  <thead>\n    <tr style=\"text-align: right;\">\n      <th></th>\n      <th>datatime</th>\n      <th>user</th>\n      <th>year</th>\n      <th>month</th>\n      <th>day</th>\n      <th>hour</th>\n      <th>minute</th>\n      <th>second</th>\n    </tr>\n  </thead>\n  <tbody>\n    <tr>\n      <th>0</th>\n      <td>2020-04-17 12:01:08.463179</td>\n      <td>artem</td>\n      <td>2020</td>\n      <td>4</td>\n      <td>17</td>\n      <td>12</td>\n      <td>1</td>\n      <td>8</td>\n    </tr>\n    <tr>\n      <th>1</th>\n      <td>2020-04-17 12:01:23.743946</td>\n      <td>artem</td>\n      <td>2020</td>\n      <td>4</td>\n      <td>17</td>\n      <td>12</td>\n      <td>1</td>\n      <td>23</td>\n    </tr>\n    <tr>\n      <th>2</th>\n      <td>2020-04-17 12:27:30.646665</td>\n      <td>artem</td>\n      <td>2020</td>\n      <td>4</td>\n      <td>17</td>\n      <td>12</td>\n      <td>27</td>\n      <td>30</td>\n    </tr>\n    <tr>\n      <th>3</th>\n      <td>2020-04-17 12:35:44.884757</td>\n      <td>artem</td>\n      <td>2020</td>\n      <td>4</td>\n      <td>17</td>\n      <td>12</td>\n      <td>35</td>\n      <td>44</td>\n    </tr>\n    <tr>\n      <th>4</th>\n      <td>2020-04-17 12:35:52.735016</td>\n      <td>artem</td>\n      <td>2020</td>\n      <td>4</td>\n      <td>17</td>\n      <td>12</td>\n      <td>35</td>\n      <td>52</td>\n    </tr>\n    <tr>\n      <th>...</th>\n      <td>...</td>\n      <td>...</td>\n      <td>...</td>\n      <td>...</td>\n      <td>...</td>\n      <td>...</td>\n      <td>...</td>\n      <td>...</td>\n    </tr>\n    <tr>\n      <th>1071</th>\n      <td>2020-05-21 18:45:20.441142</td>\n      <td>valentina</td>\n      <td>2020</td>\n      <td>5</td>\n      <td>21</td>\n      <td>18</td>\n      <td>45</td>\n      <td>20</td>\n    </tr>\n    <tr>\n      <th>1072</th>\n      <td>2020-05-21 23:03:06.457819</td>\n      <td>maxim</td>\n      <td>2020</td>\n      <td>5</td>\n      <td>21</td>\n      <td>23</td>\n      <td>3</td>\n      <td>6</td>\n    </tr>\n    <tr>\n      <th>1073</th>\n      <td>2020-05-21 23:23:49.995349</td>\n      <td>pavel</td>\n      <td>2020</td>\n      <td>5</td>\n      <td>21</td>\n      <td>23</td>\n      <td>23</td>\n      <td>49</td>\n    </tr>\n    <tr>\n      <th>1074</th>\n      <td>2020-05-21 23:49:22.386789</td>\n      <td>artem</td>\n      <td>2020</td>\n      <td>5</td>\n      <td>21</td>\n      <td>23</td>\n      <td>49</td>\n      <td>22</td>\n    </tr>\n    <tr>\n      <th>1075</th>\n      <td>2020-05-22 10:36:14.662600</td>\n      <td>artem</td>\n      <td>2020</td>\n      <td>5</td>\n      <td>22</td>\n      <td>10</td>\n      <td>36</td>\n      <td>14</td>\n    </tr>\n  </tbody>\n</table>\n<p>1076 rows × 8 columns</p>\n</div>"
     },
     "execution_count": 5,
     "metadata": {},
     "output_type": "execute_result"
    }
   ],
   "source": [
    "df"
   ],
   "metadata": {
    "collapsed": false
   }
  },
  {
   "cell_type": "code",
   "execution_count": 6,
   "outputs": [
    {
     "name": "stdout",
     "output_type": "stream",
     "text": [
      "<class 'pandas.core.frame.DataFrame'>\n",
      "RangeIndex: 1076 entries, 0 to 1075\n",
      "Data columns (total 8 columns):\n",
      " #   Column    Non-Null Count  Dtype         \n",
      "---  ------    --------------  -----         \n",
      " 0   datatime  1076 non-null   datetime64[ns]\n",
      " 1   user      1076 non-null   object        \n",
      " 2   year      1076 non-null   int64         \n",
      " 3   month     1076 non-null   int64         \n",
      " 4   day       1076 non-null   int64         \n",
      " 5   hour      1076 non-null   int64         \n",
      " 6   minute    1076 non-null   int64         \n",
      " 7   second    1076 non-null   int64         \n",
      "dtypes: datetime64[ns](1), int64(6), object(1)\n",
      "memory usage: 67.4+ KB\n"
     ]
    }
   ],
   "source": [
    "df.info()"
   ],
   "metadata": {
    "collapsed": false
   }
  },
  {
   "cell_type": "markdown",
   "source": [
    "## Column `daytime`"
   ],
   "metadata": {
    "collapsed": false
   }
  },
  {
   "cell_type": "code",
   "execution_count": 7,
   "outputs": [],
   "source": [
    "labels = [\"night\", \"early morning\", \"morning\", \"afternoon\", \"early evening\", \"evening\"]\n",
    "bins = [0, 4, 7, 11, 17, 20, 24]\n",
    "df[\"daytime\"] = pd.cut(df[\"hour\"], labels=labels, bins=bins, include_lowest=True, right=False)"
   ],
   "metadata": {
    "collapsed": false
   }
  },
  {
   "cell_type": "code",
   "execution_count": 8,
   "outputs": [],
   "source": [
    "df.set_index(\"user\", inplace=True)"
   ],
   "metadata": {
    "collapsed": false
   }
  },
  {
   "cell_type": "code",
   "execution_count": 9,
   "outputs": [
    {
     "data": {
      "text/plain": "                            datatime  year  month  day  hour  minute  second  \\\nuser                                                                           \nartem     2020-04-17 12:01:08.463179  2020      4   17    12       1       8   \nartem     2020-04-17 12:01:23.743946  2020      4   17    12       1      23   \nartem     2020-04-17 12:27:30.646665  2020      4   17    12      27      30   \nartem     2020-04-17 12:35:44.884757  2020      4   17    12      35      44   \nartem     2020-04-17 12:35:52.735016  2020      4   17    12      35      52   \n...                              ...   ...    ...  ...   ...     ...     ...   \nvalentina 2020-05-21 18:45:20.441142  2020      5   21    18      45      20   \nmaxim     2020-05-21 23:03:06.457819  2020      5   21    23       3       6   \npavel     2020-05-21 23:23:49.995349  2020      5   21    23      23      49   \nartem     2020-05-21 23:49:22.386789  2020      5   21    23      49      22   \nartem     2020-05-22 10:36:14.662600  2020      5   22    10      36      14   \n\n                 daytime  \nuser                      \nartem          afternoon  \nartem          afternoon  \nartem          afternoon  \nartem          afternoon  \nartem          afternoon  \n...                  ...  \nvalentina  early evening  \nmaxim            evening  \npavel            evening  \nartem            evening  \nartem            morning  \n\n[1076 rows x 8 columns]",
      "text/html": "<div>\n<style scoped>\n    .dataframe tbody tr th:only-of-type {\n        vertical-align: middle;\n    }\n\n    .dataframe tbody tr th {\n        vertical-align: top;\n    }\n\n    .dataframe thead th {\n        text-align: right;\n    }\n</style>\n<table border=\"1\" class=\"dataframe\">\n  <thead>\n    <tr style=\"text-align: right;\">\n      <th></th>\n      <th>datatime</th>\n      <th>year</th>\n      <th>month</th>\n      <th>day</th>\n      <th>hour</th>\n      <th>minute</th>\n      <th>second</th>\n      <th>daytime</th>\n    </tr>\n    <tr>\n      <th>user</th>\n      <th></th>\n      <th></th>\n      <th></th>\n      <th></th>\n      <th></th>\n      <th></th>\n      <th></th>\n      <th></th>\n    </tr>\n  </thead>\n  <tbody>\n    <tr>\n      <th>artem</th>\n      <td>2020-04-17 12:01:08.463179</td>\n      <td>2020</td>\n      <td>4</td>\n      <td>17</td>\n      <td>12</td>\n      <td>1</td>\n      <td>8</td>\n      <td>afternoon</td>\n    </tr>\n    <tr>\n      <th>artem</th>\n      <td>2020-04-17 12:01:23.743946</td>\n      <td>2020</td>\n      <td>4</td>\n      <td>17</td>\n      <td>12</td>\n      <td>1</td>\n      <td>23</td>\n      <td>afternoon</td>\n    </tr>\n    <tr>\n      <th>artem</th>\n      <td>2020-04-17 12:27:30.646665</td>\n      <td>2020</td>\n      <td>4</td>\n      <td>17</td>\n      <td>12</td>\n      <td>27</td>\n      <td>30</td>\n      <td>afternoon</td>\n    </tr>\n    <tr>\n      <th>artem</th>\n      <td>2020-04-17 12:35:44.884757</td>\n      <td>2020</td>\n      <td>4</td>\n      <td>17</td>\n      <td>12</td>\n      <td>35</td>\n      <td>44</td>\n      <td>afternoon</td>\n    </tr>\n    <tr>\n      <th>artem</th>\n      <td>2020-04-17 12:35:52.735016</td>\n      <td>2020</td>\n      <td>4</td>\n      <td>17</td>\n      <td>12</td>\n      <td>35</td>\n      <td>52</td>\n      <td>afternoon</td>\n    </tr>\n    <tr>\n      <th>...</th>\n      <td>...</td>\n      <td>...</td>\n      <td>...</td>\n      <td>...</td>\n      <td>...</td>\n      <td>...</td>\n      <td>...</td>\n      <td>...</td>\n    </tr>\n    <tr>\n      <th>valentina</th>\n      <td>2020-05-21 18:45:20.441142</td>\n      <td>2020</td>\n      <td>5</td>\n      <td>21</td>\n      <td>18</td>\n      <td>45</td>\n      <td>20</td>\n      <td>early evening</td>\n    </tr>\n    <tr>\n      <th>maxim</th>\n      <td>2020-05-21 23:03:06.457819</td>\n      <td>2020</td>\n      <td>5</td>\n      <td>21</td>\n      <td>23</td>\n      <td>3</td>\n      <td>6</td>\n      <td>evening</td>\n    </tr>\n    <tr>\n      <th>pavel</th>\n      <td>2020-05-21 23:23:49.995349</td>\n      <td>2020</td>\n      <td>5</td>\n      <td>21</td>\n      <td>23</td>\n      <td>23</td>\n      <td>49</td>\n      <td>evening</td>\n    </tr>\n    <tr>\n      <th>artem</th>\n      <td>2020-05-21 23:49:22.386789</td>\n      <td>2020</td>\n      <td>5</td>\n      <td>21</td>\n      <td>23</td>\n      <td>49</td>\n      <td>22</td>\n      <td>evening</td>\n    </tr>\n    <tr>\n      <th>artem</th>\n      <td>2020-05-22 10:36:14.662600</td>\n      <td>2020</td>\n      <td>5</td>\n      <td>22</td>\n      <td>10</td>\n      <td>36</td>\n      <td>14</td>\n      <td>morning</td>\n    </tr>\n  </tbody>\n</table>\n<p>1076 rows × 8 columns</p>\n</div>"
     },
     "execution_count": 9,
     "metadata": {},
     "output_type": "execute_result"
    }
   ],
   "source": [
    "df"
   ],
   "metadata": {
    "collapsed": false
   }
  },
  {
   "cell_type": "code",
   "execution_count": 10,
   "outputs": [
    {
     "name": "stdout",
     "output_type": "stream",
     "text": [
      "<class 'pandas.core.frame.DataFrame'>\n",
      "Index: 1076 entries, artem to artem\n",
      "Data columns (total 8 columns):\n",
      " #   Column    Non-Null Count  Dtype         \n",
      "---  ------    --------------  -----         \n",
      " 0   datatime  1076 non-null   datetime64[ns]\n",
      " 1   year      1076 non-null   int64         \n",
      " 2   month     1076 non-null   int64         \n",
      " 3   day       1076 non-null   int64         \n",
      " 4   hour      1076 non-null   int64         \n",
      " 5   minute    1076 non-null   int64         \n",
      " 6   second    1076 non-null   int64         \n",
      " 7   daytime   1076 non-null   category      \n",
      "dtypes: category(1), datetime64[ns](1), int64(6)\n",
      "memory usage: 68.5+ KB\n"
     ]
    }
   ],
   "source": [
    "df.info()"
   ],
   "metadata": {
    "collapsed": false
   }
  },
  {
   "cell_type": "markdown",
   "source": [
    "## Calculate dataframe"
   ],
   "metadata": {
    "collapsed": false
   }
  },
  {
   "cell_type": "code",
   "execution_count": 11,
   "outputs": [
    {
     "data": {
      "text/plain": "datatime    1076\nyear        1076\nmonth       1076\nday         1076\nhour        1076\nminute      1076\nsecond      1076\ndaytime     1076\ndtype: int64"
     },
     "execution_count": 11,
     "metadata": {},
     "output_type": "execute_result"
    }
   ],
   "source": [
    "df.count()"
   ],
   "metadata": {
    "collapsed": false
   }
  },
  {
   "cell_type": "code",
   "execution_count": 12,
   "outputs": [
    {
     "data": {
      "text/plain": "evening          509\nafternoon        252\nearly evening    145\nnight            129\nmorning           36\nearly morning      5\nName: daytime, dtype: int64"
     },
     "execution_count": 12,
     "metadata": {},
     "output_type": "execute_result"
    }
   ],
   "source": [
    "df['daytime'].value_counts()"
   ],
   "metadata": {
    "collapsed": false
   }
  },
  {
   "cell_type": "markdown",
   "source": [
    "## Sort by `hour`, `minute`, and `second` in ascending order"
   ],
   "metadata": {
    "collapsed": false
   }
  },
  {
   "cell_type": "code",
   "execution_count": 13,
   "outputs": [
    {
     "data": {
      "text/plain": "                            datatime  year  month  day  hour  minute  second  \\\nuser                                                                           \nvalentina 2020-05-15 00:00:13.222265  2020      5   15     0       0      13   \nvalentina 2020-05-15 00:01:05.153738  2020      5   15     0       1       5   \npavel     2020-05-12 00:01:27.764025  2020      5   12     0       1      27   \npavel     2020-05-12 00:01:38.444917  2020      5   12     0       1      38   \npavel     2020-05-12 00:01:55.395042  2020      5   12     0       1      55   \n...                              ...   ...    ...  ...   ...     ...     ...   \nartem     2020-05-21 23:49:22.386789  2020      5   21    23      49      22   \nanatoliy  2020-05-09 23:53:55.599821  2020      5    9    23      53      55   \npavel     2020-05-09 23:54:54.260791  2020      5    9    23      54      54   \nvalentina 2020-05-14 23:58:56.754866  2020      5   14    23      58      56   \nalexander 2020-05-14 23:59:38.758438  2020      5   14    23      59      38   \n\n           daytime  \nuser                \nvalentina    night  \nvalentina    night  \npavel        night  \npavel        night  \npavel        night  \n...            ...  \nartem      evening  \nanatoliy   evening  \npavel      evening  \nvalentina  evening  \nalexander  evening  \n\n[1076 rows x 8 columns]",
      "text/html": "<div>\n<style scoped>\n    .dataframe tbody tr th:only-of-type {\n        vertical-align: middle;\n    }\n\n    .dataframe tbody tr th {\n        vertical-align: top;\n    }\n\n    .dataframe thead th {\n        text-align: right;\n    }\n</style>\n<table border=\"1\" class=\"dataframe\">\n  <thead>\n    <tr style=\"text-align: right;\">\n      <th></th>\n      <th>datatime</th>\n      <th>year</th>\n      <th>month</th>\n      <th>day</th>\n      <th>hour</th>\n      <th>minute</th>\n      <th>second</th>\n      <th>daytime</th>\n    </tr>\n    <tr>\n      <th>user</th>\n      <th></th>\n      <th></th>\n      <th></th>\n      <th></th>\n      <th></th>\n      <th></th>\n      <th></th>\n      <th></th>\n    </tr>\n  </thead>\n  <tbody>\n    <tr>\n      <th>valentina</th>\n      <td>2020-05-15 00:00:13.222265</td>\n      <td>2020</td>\n      <td>5</td>\n      <td>15</td>\n      <td>0</td>\n      <td>0</td>\n      <td>13</td>\n      <td>night</td>\n    </tr>\n    <tr>\n      <th>valentina</th>\n      <td>2020-05-15 00:01:05.153738</td>\n      <td>2020</td>\n      <td>5</td>\n      <td>15</td>\n      <td>0</td>\n      <td>1</td>\n      <td>5</td>\n      <td>night</td>\n    </tr>\n    <tr>\n      <th>pavel</th>\n      <td>2020-05-12 00:01:27.764025</td>\n      <td>2020</td>\n      <td>5</td>\n      <td>12</td>\n      <td>0</td>\n      <td>1</td>\n      <td>27</td>\n      <td>night</td>\n    </tr>\n    <tr>\n      <th>pavel</th>\n      <td>2020-05-12 00:01:38.444917</td>\n      <td>2020</td>\n      <td>5</td>\n      <td>12</td>\n      <td>0</td>\n      <td>1</td>\n      <td>38</td>\n      <td>night</td>\n    </tr>\n    <tr>\n      <th>pavel</th>\n      <td>2020-05-12 00:01:55.395042</td>\n      <td>2020</td>\n      <td>5</td>\n      <td>12</td>\n      <td>0</td>\n      <td>1</td>\n      <td>55</td>\n      <td>night</td>\n    </tr>\n    <tr>\n      <th>...</th>\n      <td>...</td>\n      <td>...</td>\n      <td>...</td>\n      <td>...</td>\n      <td>...</td>\n      <td>...</td>\n      <td>...</td>\n      <td>...</td>\n    </tr>\n    <tr>\n      <th>artem</th>\n      <td>2020-05-21 23:49:22.386789</td>\n      <td>2020</td>\n      <td>5</td>\n      <td>21</td>\n      <td>23</td>\n      <td>49</td>\n      <td>22</td>\n      <td>evening</td>\n    </tr>\n    <tr>\n      <th>anatoliy</th>\n      <td>2020-05-09 23:53:55.599821</td>\n      <td>2020</td>\n      <td>5</td>\n      <td>9</td>\n      <td>23</td>\n      <td>53</td>\n      <td>55</td>\n      <td>evening</td>\n    </tr>\n    <tr>\n      <th>pavel</th>\n      <td>2020-05-09 23:54:54.260791</td>\n      <td>2020</td>\n      <td>5</td>\n      <td>9</td>\n      <td>23</td>\n      <td>54</td>\n      <td>54</td>\n      <td>evening</td>\n    </tr>\n    <tr>\n      <th>valentina</th>\n      <td>2020-05-14 23:58:56.754866</td>\n      <td>2020</td>\n      <td>5</td>\n      <td>14</td>\n      <td>23</td>\n      <td>58</td>\n      <td>56</td>\n      <td>evening</td>\n    </tr>\n    <tr>\n      <th>alexander</th>\n      <td>2020-05-14 23:59:38.758438</td>\n      <td>2020</td>\n      <td>5</td>\n      <td>14</td>\n      <td>23</td>\n      <td>59</td>\n      <td>38</td>\n      <td>evening</td>\n    </tr>\n  </tbody>\n</table>\n<p>1076 rows × 8 columns</p>\n</div>"
     },
     "execution_count": 13,
     "metadata": {},
     "output_type": "execute_result"
    }
   ],
   "source": [
    "df.sort_values(by=['hour', 'minute', 'second'])"
   ],
   "metadata": {
    "collapsed": false
   }
  },
  {
   "cell_type": "markdown",
   "source": [
    "## Calculate the *min()* and *max()*"
   ],
   "metadata": {
    "collapsed": false
   }
  },
  {
   "cell_type": "code",
   "execution_count": 14,
   "outputs": [
    {
     "data": {
      "text/plain": "3"
     },
     "execution_count": 14,
     "metadata": {},
     "output_type": "execute_result"
    }
   ],
   "source": [
    "max_hour = df[df['daytime'] == 'night']['hour'].max()\n",
    "max_hour"
   ],
   "metadata": {
    "collapsed": false
   }
  },
  {
   "cell_type": "code",
   "execution_count": 15,
   "outputs": [
    {
     "data": {
      "text/plain": "8"
     },
     "execution_count": 15,
     "metadata": {},
     "output_type": "execute_result"
    }
   ],
   "source": [
    "min_hour = df[df['daytime'] == 'morning']['hour'].min()\n",
    "min_hour"
   ],
   "metadata": {
    "collapsed": false
   }
  },
  {
   "cell_type": "code",
   "execution_count": 16,
   "outputs": [
    {
     "data": {
      "text/plain": "                             datatime  year  month  day  hour  minute  second  \\\nuser                                                                            \nkonstantin 2020-04-19 03:23:35.471598  2020      4   19     3      23      35   \nkonstantin 2020-04-19 03:23:55.473926  2020      4   19     3      23      55   \nkonstantin 2020-04-19 03:33:07.757714  2020      4   19     3      33       7   \n\n           daytime  \nuser                \nkonstantin   night  \nkonstantin   night  \nkonstantin   night  ",
      "text/html": "<div>\n<style scoped>\n    .dataframe tbody tr th:only-of-type {\n        vertical-align: middle;\n    }\n\n    .dataframe tbody tr th {\n        vertical-align: top;\n    }\n\n    .dataframe thead th {\n        text-align: right;\n    }\n</style>\n<table border=\"1\" class=\"dataframe\">\n  <thead>\n    <tr style=\"text-align: right;\">\n      <th></th>\n      <th>datatime</th>\n      <th>year</th>\n      <th>month</th>\n      <th>day</th>\n      <th>hour</th>\n      <th>minute</th>\n      <th>second</th>\n      <th>daytime</th>\n    </tr>\n    <tr>\n      <th>user</th>\n      <th></th>\n      <th></th>\n      <th></th>\n      <th></th>\n      <th></th>\n      <th></th>\n      <th></th>\n      <th></th>\n    </tr>\n  </thead>\n  <tbody>\n    <tr>\n      <th>konstantin</th>\n      <td>2020-04-19 03:23:35.471598</td>\n      <td>2020</td>\n      <td>4</td>\n      <td>19</td>\n      <td>3</td>\n      <td>23</td>\n      <td>35</td>\n      <td>night</td>\n    </tr>\n    <tr>\n      <th>konstantin</th>\n      <td>2020-04-19 03:23:55.473926</td>\n      <td>2020</td>\n      <td>4</td>\n      <td>19</td>\n      <td>3</td>\n      <td>23</td>\n      <td>55</td>\n      <td>night</td>\n    </tr>\n    <tr>\n      <th>konstantin</th>\n      <td>2020-04-19 03:33:07.757714</td>\n      <td>2020</td>\n      <td>4</td>\n      <td>19</td>\n      <td>3</td>\n      <td>33</td>\n      <td>7</td>\n      <td>night</td>\n    </tr>\n  </tbody>\n</table>\n</div>"
     },
     "execution_count": 16,
     "metadata": {},
     "output_type": "execute_result"
    }
   ],
   "source": [
    "df.loc[df['hour'] == max_hour]"
   ],
   "metadata": {
    "collapsed": false
   }
  },
  {
   "cell_type": "code",
   "execution_count": 17,
   "outputs": [
    {
     "data": {
      "text/plain": "                            datatime  year  month  day  hour  minute  second  \\\nuser                                                                           \nalexander 2020-05-15 08:16:03.918402  2020      5   15     8      16       3   \nalexander 2020-05-15 08:35:01.471463  2020      5   15     8      35       1   \n\n           daytime  \nuser                \nalexander  morning  \nalexander  morning  ",
      "text/html": "<div>\n<style scoped>\n    .dataframe tbody tr th:only-of-type {\n        vertical-align: middle;\n    }\n\n    .dataframe tbody tr th {\n        vertical-align: top;\n    }\n\n    .dataframe thead th {\n        text-align: right;\n    }\n</style>\n<table border=\"1\" class=\"dataframe\">\n  <thead>\n    <tr style=\"text-align: right;\">\n      <th></th>\n      <th>datatime</th>\n      <th>year</th>\n      <th>month</th>\n      <th>day</th>\n      <th>hour</th>\n      <th>minute</th>\n      <th>second</th>\n      <th>daytime</th>\n    </tr>\n    <tr>\n      <th>user</th>\n      <th></th>\n      <th></th>\n      <th></th>\n      <th></th>\n      <th></th>\n      <th></th>\n      <th></th>\n      <th></th>\n    </tr>\n  </thead>\n  <tbody>\n    <tr>\n      <th>alexander</th>\n      <td>2020-05-15 08:16:03.918402</td>\n      <td>2020</td>\n      <td>5</td>\n      <td>15</td>\n      <td>8</td>\n      <td>16</td>\n      <td>3</td>\n      <td>morning</td>\n    </tr>\n    <tr>\n      <th>alexander</th>\n      <td>2020-05-15 08:35:01.471463</td>\n      <td>2020</td>\n      <td>5</td>\n      <td>15</td>\n      <td>8</td>\n      <td>35</td>\n      <td>1</td>\n      <td>morning</td>\n    </tr>\n  </tbody>\n</table>\n</div>"
     },
     "execution_count": 17,
     "metadata": {},
     "output_type": "execute_result"
    }
   ],
   "source": [
    "df.loc[df['hour'] == min_hour]"
   ],
   "metadata": {
    "collapsed": false
   }
  },
  {
   "cell_type": "markdown",
   "source": [
    "## Calculate the *mode()* for the `hour` and `daytime`"
   ],
   "metadata": {
    "collapsed": false
   }
  },
  {
   "cell_type": "code",
   "execution_count": 18,
   "outputs": [
    {
     "data": {
      "text/plain": "0    22\nName: hour, dtype: int64"
     },
     "execution_count": 18,
     "metadata": {},
     "output_type": "execute_result"
    }
   ],
   "source": [
    "df['hour'].mode()"
   ],
   "metadata": {
    "collapsed": false
   }
  },
  {
   "cell_type": "code",
   "execution_count": 19,
   "outputs": [
    {
     "data": {
      "text/plain": "0    evening\nName: daytime, dtype: category\nCategories (6, object): ['night' < 'early morning' < 'morning' < 'afternoon' < 'early evening' < 'evening']"
     },
     "execution_count": 19,
     "metadata": {},
     "output_type": "execute_result"
    }
   ],
   "source": [
    "df['daytime'].mode()"
   ],
   "metadata": {
    "collapsed": false
   }
  },
  {
   "cell_type": "markdown",
   "source": [
    "## 3 earliest `hour` in the `morning` and the corresponding usernames"
   ],
   "metadata": {
    "collapsed": false
   }
  },
  {
   "cell_type": "code",
   "execution_count": 20,
   "outputs": [
    {
     "data": {
      "text/plain": "user\nalexander    8\nalexander    8\nartem        9\nName: hour, dtype: int64"
     },
     "execution_count": 20,
     "metadata": {},
     "output_type": "execute_result"
    }
   ],
   "source": [
    "df.loc[df['daytime'] == 'morning'].nsmallest(3, columns=['hour'])['hour']"
   ],
   "metadata": {
    "collapsed": false
   }
  },
  {
   "cell_type": "markdown",
   "source": [
    "## 3 latest `hour` and the usernames"
   ],
   "metadata": {
    "collapsed": false
   }
  },
  {
   "cell_type": "code",
   "execution_count": null,
   "outputs": [],
   "source": [
    "df.loc[df['daytime'] == 'morning'].nlargest(3, columns=['hour'])['hour']"
   ],
   "metadata": {
    "collapsed": false
   }
  },
  {
   "cell_type": "markdown",
   "source": [
    "## Use the method *describe()* to get the basic statistics for the columns"
   ],
   "metadata": {
    "collapsed": false
   }
  },
  {
   "cell_type": "code",
   "execution_count": 22,
   "outputs": [
    {
     "data": {
      "text/plain": "         year        month          day         hour       minute       second\ncount  1076.0  1076.000000  1076.000000  1076.000000  1076.000000  1076.000000\nmean   2020.0     4.870818    13.552974    16.249071    29.629182    29.500929\nstd       0.0     0.335557     4.906567     6.955490    17.689388    17.405506\nmin    2020.0     4.000000     1.000000     0.000000     0.000000     0.000000\n25%    2020.0     5.000000    11.000000    13.000000    14.000000    14.000000\n50%    2020.0     5.000000    13.000000    19.000000    29.000000    30.000000\n75%    2020.0     5.000000    15.000000    22.000000    46.000000    45.000000\nmax    2020.0     5.000000    30.000000    23.000000    59.000000    59.000000",
      "text/html": "<div>\n<style scoped>\n    .dataframe tbody tr th:only-of-type {\n        vertical-align: middle;\n    }\n\n    .dataframe tbody tr th {\n        vertical-align: top;\n    }\n\n    .dataframe thead th {\n        text-align: right;\n    }\n</style>\n<table border=\"1\" class=\"dataframe\">\n  <thead>\n    <tr style=\"text-align: right;\">\n      <th></th>\n      <th>year</th>\n      <th>month</th>\n      <th>day</th>\n      <th>hour</th>\n      <th>minute</th>\n      <th>second</th>\n    </tr>\n  </thead>\n  <tbody>\n    <tr>\n      <th>count</th>\n      <td>1076.0</td>\n      <td>1076.000000</td>\n      <td>1076.000000</td>\n      <td>1076.000000</td>\n      <td>1076.000000</td>\n      <td>1076.000000</td>\n    </tr>\n    <tr>\n      <th>mean</th>\n      <td>2020.0</td>\n      <td>4.870818</td>\n      <td>13.552974</td>\n      <td>16.249071</td>\n      <td>29.629182</td>\n      <td>29.500929</td>\n    </tr>\n    <tr>\n      <th>std</th>\n      <td>0.0</td>\n      <td>0.335557</td>\n      <td>4.906567</td>\n      <td>6.955490</td>\n      <td>17.689388</td>\n      <td>17.405506</td>\n    </tr>\n    <tr>\n      <th>min</th>\n      <td>2020.0</td>\n      <td>4.000000</td>\n      <td>1.000000</td>\n      <td>0.000000</td>\n      <td>0.000000</td>\n      <td>0.000000</td>\n    </tr>\n    <tr>\n      <th>25%</th>\n      <td>2020.0</td>\n      <td>5.000000</td>\n      <td>11.000000</td>\n      <td>13.000000</td>\n      <td>14.000000</td>\n      <td>14.000000</td>\n    </tr>\n    <tr>\n      <th>50%</th>\n      <td>2020.0</td>\n      <td>5.000000</td>\n      <td>13.000000</td>\n      <td>19.000000</td>\n      <td>29.000000</td>\n      <td>30.000000</td>\n    </tr>\n    <tr>\n      <th>75%</th>\n      <td>2020.0</td>\n      <td>5.000000</td>\n      <td>15.000000</td>\n      <td>22.000000</td>\n      <td>46.000000</td>\n      <td>45.000000</td>\n    </tr>\n    <tr>\n      <th>max</th>\n      <td>2020.0</td>\n      <td>5.000000</td>\n      <td>30.000000</td>\n      <td>23.000000</td>\n      <td>59.000000</td>\n      <td>59.000000</td>\n    </tr>\n  </tbody>\n</table>\n</div>"
     },
     "execution_count": 22,
     "metadata": {},
     "output_type": "execute_result"
    }
   ],
   "source": [
    "df.describe()"
   ],
   "metadata": {
    "collapsed": false
   }
  },
  {
   "cell_type": "code",
   "execution_count": 23,
   "outputs": [
    {
     "data": {
      "text/plain": "9.0"
     },
     "execution_count": 23,
     "metadata": {},
     "output_type": "execute_result"
    }
   ],
   "source": [
    "iqr = df.describe()['hour']['75%'] - df.describe()['hour']['25%']\n",
    "iqr"
   ],
   "metadata": {
    "collapsed": false
   }
  }
 ],
 "metadata": {
  "kernelspec": {
   "display_name": "Python 3",
   "language": "python",
   "name": "python3"
  },
  "language_info": {
   "codemirror_mode": {
    "name": "ipython",
    "version": 2
   },
   "file_extension": ".py",
   "mimetype": "text/x-python",
   "name": "python",
   "nbconvert_exporter": "python",
   "pygments_lexer": "ipython2",
   "version": "2.7.6"
  }
 },
 "nbformat": 4,
 "nbformat_minor": 0
}
