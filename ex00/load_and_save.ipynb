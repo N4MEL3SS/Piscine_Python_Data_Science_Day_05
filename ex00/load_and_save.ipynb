{
 "cells": [
  {
   "cell_type": "markdown",
   "metadata": {},
   "source": [
    "# EX00 Load and Save"
   ]
  },
  {
   "cell_type": "code",
   "execution_count": 1,
   "metadata": {},
   "outputs": [],
   "source": [
    "import pandas as pd"
   ]
  },
  {
   "cell_type": "markdown",
   "metadata": {},
   "source": [
    "## Read_csv"
   ]
  },
  {
   "cell_type": "code",
   "execution_count": 2,
   "metadata": {},
   "outputs": [],
   "source": [
    "df = pd.read_csv(\n",
    "    \"../data/feed-views.log\",\n",
    "    skiprows=[2, 3],\n",
    "    skipfooter=2,\n",
    "    names=(\"datatime\", \"user\"),\n",
    "    index_col=\"datatime\",\n",
    "    sep=\"\\t\",\n",
    "    engine=\"python\"\n",
    ")"
   ]
  },
  {
   "cell_type": "code",
   "execution_count": 3,
   "metadata": {},
   "outputs": [
    {
     "data": {
      "text/html": [
       "<div>\n",
       "<style scoped>\n",
       "    .dataframe tbody tr th:only-of-type {\n",
       "        vertical-align: middle;\n",
       "    }\n",
       "\n",
       "    .dataframe tbody tr th {\n",
       "        vertical-align: top;\n",
       "    }\n",
       "\n",
       "    .dataframe thead th {\n",
       "        text-align: right;\n",
       "    }\n",
       "</style>\n",
       "<table border=\"1\" class=\"dataframe\">\n",
       "  <thead>\n",
       "    <tr style=\"text-align: right;\">\n",
       "      <th></th>\n",
       "      <th>user</th>\n",
       "    </tr>\n",
       "    <tr>\n",
       "      <th>datatime</th>\n",
       "      <th></th>\n",
       "    </tr>\n",
       "  </thead>\n",
       "  <tbody>\n",
       "    <tr>\n",
       "      <th>2020-04-17 12:01:08.463179</th>\n",
       "      <td>artem</td>\n",
       "    </tr>\n",
       "    <tr>\n",
       "      <th>2020-04-17 12:01:23.743946</th>\n",
       "      <td>artem</td>\n",
       "    </tr>\n",
       "    <tr>\n",
       "      <th>2020-04-17 12:35:52.735016</th>\n",
       "      <td>artem</td>\n",
       "    </tr>\n",
       "    <tr>\n",
       "      <th>2020-04-17 12:36:21.401412</th>\n",
       "      <td>oksana</td>\n",
       "    </tr>\n",
       "    <tr>\n",
       "      <th>2020-04-17 12:36:22.023355</th>\n",
       "      <td>oksana</td>\n",
       "    </tr>\n",
       "  </tbody>\n",
       "</table>\n",
       "</div>"
      ],
      "text/plain": [
       "                              user\n",
       "datatime                          \n",
       "2020-04-17 12:01:08.463179   artem\n",
       "2020-04-17 12:01:23.743946   artem\n",
       "2020-04-17 12:35:52.735016   artem\n",
       "2020-04-17 12:36:21.401412  oksana\n",
       "2020-04-17 12:36:22.023355  oksana"
      ]
     },
     "execution_count": 3,
     "metadata": {},
     "output_type": "execute_result"
    }
   ],
   "source": [
    "df.head()"
   ]
  },
  {
   "cell_type": "code",
   "execution_count": 4,
   "metadata": {},
   "outputs": [
    {
     "data": {
      "text/html": [
       "<div>\n",
       "<style scoped>\n",
       "    .dataframe tbody tr th:only-of-type {\n",
       "        vertical-align: middle;\n",
       "    }\n",
       "\n",
       "    .dataframe tbody tr th {\n",
       "        vertical-align: top;\n",
       "    }\n",
       "\n",
       "    .dataframe thead th {\n",
       "        text-align: right;\n",
       "    }\n",
       "</style>\n",
       "<table border=\"1\" class=\"dataframe\">\n",
       "  <thead>\n",
       "    <tr style=\"text-align: right;\">\n",
       "      <th></th>\n",
       "      <th>user</th>\n",
       "    </tr>\n",
       "    <tr>\n",
       "      <th>datatime</th>\n",
       "      <th></th>\n",
       "    </tr>\n",
       "  </thead>\n",
       "  <tbody>\n",
       "    <tr>\n",
       "      <th>2020-05-21 16:36:40.915488</th>\n",
       "      <td>ekaterina</td>\n",
       "    </tr>\n",
       "    <tr>\n",
       "      <th>2020-05-21 17:49:36.429237</th>\n",
       "      <td>maxim</td>\n",
       "    </tr>\n",
       "    <tr>\n",
       "      <th>2020-05-21 18:45:20.441142</th>\n",
       "      <td>valentina</td>\n",
       "    </tr>\n",
       "    <tr>\n",
       "      <th>2020-05-21 23:03:06.457819</th>\n",
       "      <td>maxim</td>\n",
       "    </tr>\n",
       "    <tr>\n",
       "      <th>2020-05-21 23:23:49.995349</th>\n",
       "      <td>pavel</td>\n",
       "    </tr>\n",
       "  </tbody>\n",
       "</table>\n",
       "</div>"
      ],
      "text/plain": [
       "                                 user\n",
       "datatime                             \n",
       "2020-05-21 16:36:40.915488  ekaterina\n",
       "2020-05-21 17:49:36.429237      maxim\n",
       "2020-05-21 18:45:20.441142  valentina\n",
       "2020-05-21 23:03:06.457819      maxim\n",
       "2020-05-21 23:23:49.995349      pavel"
      ]
     },
     "execution_count": 4,
     "metadata": {},
     "output_type": "execute_result"
    }
   ],
   "source": [
    "df.tail()"
   ]
  },
  {
   "cell_type": "code",
   "execution_count": 5,
   "metadata": {},
   "outputs": [
    {
     "name": "stdout",
     "output_type": "stream",
     "text": [
      "<class 'pandas.core.frame.DataFrame'>\n",
      "Index: 1072 entries, 2020-04-17 12:01:08.463179 to 2020-05-21 23:23:49.995349\n",
      "Data columns (total 1 columns):\n",
      " #   Column  Non-Null Count  Dtype \n",
      "---  ------  --------------  ----- \n",
      " 0   user    1072 non-null   object\n",
      "dtypes: object(1)\n",
      "memory usage: 16.8+ KB\n"
     ]
    }
   ],
   "source": [
    "df.info()"
   ]
  },
  {
   "cell_type": "markdown",
   "metadata": {},
   "source": [
    "## Rename `datatime` to `data_time`"
   ]
  },
  {
   "cell_type": "code",
   "execution_count": 6,
   "metadata": {},
   "outputs": [],
   "source": [
    "df.index.name = \"data_time\""
   ]
  },
  {
   "cell_type": "code",
   "execution_count": 7,
   "metadata": {},
   "outputs": [
    {
     "data": {
      "text/html": [
       "<div>\n",
       "<style scoped>\n",
       "    .dataframe tbody tr th:only-of-type {\n",
       "        vertical-align: middle;\n",
       "    }\n",
       "\n",
       "    .dataframe tbody tr th {\n",
       "        vertical-align: top;\n",
       "    }\n",
       "\n",
       "    .dataframe thead th {\n",
       "        text-align: right;\n",
       "    }\n",
       "</style>\n",
       "<table border=\"1\" class=\"dataframe\">\n",
       "  <thead>\n",
       "    <tr style=\"text-align: right;\">\n",
       "      <th></th>\n",
       "      <th>user</th>\n",
       "    </tr>\n",
       "    <tr>\n",
       "      <th>data_time</th>\n",
       "      <th></th>\n",
       "    </tr>\n",
       "  </thead>\n",
       "  <tbody>\n",
       "    <tr>\n",
       "      <th>2020-04-17 12:01:08.463179</th>\n",
       "      <td>artem</td>\n",
       "    </tr>\n",
       "    <tr>\n",
       "      <th>2020-04-17 12:01:23.743946</th>\n",
       "      <td>artem</td>\n",
       "    </tr>\n",
       "    <tr>\n",
       "      <th>2020-04-17 12:35:52.735016</th>\n",
       "      <td>artem</td>\n",
       "    </tr>\n",
       "    <tr>\n",
       "      <th>2020-04-17 12:36:21.401412</th>\n",
       "      <td>oksana</td>\n",
       "    </tr>\n",
       "    <tr>\n",
       "      <th>2020-04-17 12:36:22.023355</th>\n",
       "      <td>oksana</td>\n",
       "    </tr>\n",
       "  </tbody>\n",
       "</table>\n",
       "</div>"
      ],
      "text/plain": [
       "                              user\n",
       "data_time                         \n",
       "2020-04-17 12:01:08.463179   artem\n",
       "2020-04-17 12:01:23.743946   artem\n",
       "2020-04-17 12:35:52.735016   artem\n",
       "2020-04-17 12:36:21.401412  oksana\n",
       "2020-04-17 12:36:22.023355  oksana"
      ]
     },
     "execution_count": 7,
     "metadata": {},
     "output_type": "execute_result"
    }
   ],
   "source": [
    "df.head()"
   ]
  },
  {
   "cell_type": "markdown",
   "metadata": {},
   "source": [
    "## Save to_csv"
   ]
  },
  {
   "cell_type": "code",
   "execution_count": 8,
   "metadata": {},
   "outputs": [],
   "source": [
    "df.to_csv(\"../data/feed-views-semicolon.log\", sep=\";\")"
   ]
  },
  {
   "cell_type": "code",
   "execution_count": 9,
   "metadata": {},
   "outputs": [
    {
     "name": "stdout",
     "output_type": "stream",
     "text": [
      "data_time;user\n",
      "2020-04-17 12:01:08.463179;artem\n",
      "2020-04-17 12:01:23.743946;artem\n",
      "2020-04-17 12:35:52.735016;artem\n",
      "2020-04-17 12:36:21.401412;oksana\n",
      "2020-04-17 12:36:22.023355;oksana\n"
     ]
    }
   ],
   "source": [
    "!head -n 6 ../data/feed-views-semicolon.log"
   ]
  },
  {
   "cell_type": "code",
   "execution_count": 10,
   "metadata": {},
   "outputs": [
    {
     "name": "stdout",
     "output_type": "stream",
     "text": [
      "2020-04-17 12:01:08.463179\tartem\n",
      "2020-04-17 12:01:23.743946\tartem\n",
      "2020-04-17 12:27:30.646665\tartem\n",
      "2020-04-17 12:35:44.884757\tartem\n",
      "2020-04-17 12:35:52.735016\tartem\n"
     ]
    }
   ],
   "source": [
    "!head -n 5 ../data/feed-views.log"
   ]
  },
  {
   "cell_type": "code",
   "execution_count": 11,
   "metadata": {},
   "outputs": [
    {
     "name": "stdout",
     "output_type": "stream",
     "text": [
      "2020-05-21 16:36:40.915488;ekaterina\n",
      "2020-05-21 17:49:36.429237;maxim\n",
      "2020-05-21 18:45:20.441142;valentina\n",
      "2020-05-21 23:03:06.457819;maxim\n",
      "2020-05-21 23:23:49.995349;pavel\n"
     ]
    }
   ],
   "source": [
    "!tail -n 5 ../data/feed-views-semicolon.log"
   ]
  },
  {
   "cell_type": "code",
   "execution_count": 12,
   "metadata": {},
   "outputs": [
    {
     "name": "stdout",
     "output_type": "stream",
     "text": [
      "2020-05-21 18:45:20.441142\tvalentina\n",
      "2020-05-21 23:03:06.457819\tmaxim\n",
      "2020-05-21 23:23:49.995349\tpavel\n",
      "2020-05-21 23:49:22.386789\tartem\n",
      "2020-05-22 10:36:14.662600\tartem\n"
     ]
    }
   ],
   "source": [
    "!tail -n 5 ../data/feed-views.log"
   ]
  }
 ],
 "metadata": {
  "kernelspec": {
   "display_name": "Python 3 (ipykernel)",
   "language": "python",
   "name": "python3"
  },
  "language_info": {
   "codemirror_mode": {
    "name": "ipython",
    "version": 3
   },
   "file_extension": ".py",
   "mimetype": "text/x-python",
   "name": "python",
   "nbconvert_exporter": "python",
   "pygments_lexer": "ipython3",
   "version": "3.10.7"
  }
 },
 "nbformat": 4,
 "nbformat_minor": 1
}
