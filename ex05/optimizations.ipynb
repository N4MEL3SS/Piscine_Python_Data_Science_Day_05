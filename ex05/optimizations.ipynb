{
 "cells": [
  {
   "cell_type": "markdown",
   "source": [
    "# Exercise 05 : Pandas optimizations"
   ],
   "metadata": {
    "collapsed": false
   }
  },
  {
   "cell_type": "markdown",
   "source": [
    "## Imports"
   ],
   "metadata": {
    "collapsed": false
   }
  },
  {
   "cell_type": "code",
   "execution_count": 33,
   "outputs": [],
   "source": [
    "import pandas as pd\n",
    "import gc"
   ],
   "metadata": {
    "collapsed": false
   }
  },
  {
   "cell_type": "markdown",
   "source": [
    "## Read CSV file"
   ],
   "metadata": {
    "collapsed": false
   }
  },
  {
   "cell_type": "code",
   "execution_count": 34,
   "outputs": [
    {
     "data": {
      "text/plain": "          CarNumber  Refund    Fines        Make  Model  Year\n0      Y163O8161RUS       2   3200.0        Ford  Focus  1989\n1       E432XX77RUS       1   6500.0      Toyota  Camry  1995\n2       7184TT36RUS       1   2100.0        Ford  Focus  1984\n3      X582HE161RUS       2   2000.0        Ford  Focus  2015\n4      92918M178RUS       1   5700.0        Ford  Focus  2014\n..              ...     ...      ...         ...    ...   ...\n925  SCHOOL21000RUS       2    500.0        Ford  Focus  2000\n926  SCHOOL21001RUS       1  18500.0  Volkswagen  Focus  1996\n927  SCHOOL21002RUS       2   3800.0        Ford  Focus  2013\n928  SCHOOL21003RUS       2   1600.0        Ford  Focus  1992\n929  SCHOOL21004RUS       2   1000.0        Ford  Focus  2005\n\n[930 rows x 6 columns]",
      "text/html": "<div>\n<style scoped>\n    .dataframe tbody tr th:only-of-type {\n        vertical-align: middle;\n    }\n\n    .dataframe tbody tr th {\n        vertical-align: top;\n    }\n\n    .dataframe thead th {\n        text-align: right;\n    }\n</style>\n<table border=\"1\" class=\"dataframe\">\n  <thead>\n    <tr style=\"text-align: right;\">\n      <th></th>\n      <th>CarNumber</th>\n      <th>Refund</th>\n      <th>Fines</th>\n      <th>Make</th>\n      <th>Model</th>\n      <th>Year</th>\n    </tr>\n  </thead>\n  <tbody>\n    <tr>\n      <th>0</th>\n      <td>Y163O8161RUS</td>\n      <td>2</td>\n      <td>3200.0</td>\n      <td>Ford</td>\n      <td>Focus</td>\n      <td>1989</td>\n    </tr>\n    <tr>\n      <th>1</th>\n      <td>E432XX77RUS</td>\n      <td>1</td>\n      <td>6500.0</td>\n      <td>Toyota</td>\n      <td>Camry</td>\n      <td>1995</td>\n    </tr>\n    <tr>\n      <th>2</th>\n      <td>7184TT36RUS</td>\n      <td>1</td>\n      <td>2100.0</td>\n      <td>Ford</td>\n      <td>Focus</td>\n      <td>1984</td>\n    </tr>\n    <tr>\n      <th>3</th>\n      <td>X582HE161RUS</td>\n      <td>2</td>\n      <td>2000.0</td>\n      <td>Ford</td>\n      <td>Focus</td>\n      <td>2015</td>\n    </tr>\n    <tr>\n      <th>4</th>\n      <td>92918M178RUS</td>\n      <td>1</td>\n      <td>5700.0</td>\n      <td>Ford</td>\n      <td>Focus</td>\n      <td>2014</td>\n    </tr>\n    <tr>\n      <th>...</th>\n      <td>...</td>\n      <td>...</td>\n      <td>...</td>\n      <td>...</td>\n      <td>...</td>\n      <td>...</td>\n    </tr>\n    <tr>\n      <th>925</th>\n      <td>SCHOOL21000RUS</td>\n      <td>2</td>\n      <td>500.0</td>\n      <td>Ford</td>\n      <td>Focus</td>\n      <td>2000</td>\n    </tr>\n    <tr>\n      <th>926</th>\n      <td>SCHOOL21001RUS</td>\n      <td>1</td>\n      <td>18500.0</td>\n      <td>Volkswagen</td>\n      <td>Focus</td>\n      <td>1996</td>\n    </tr>\n    <tr>\n      <th>927</th>\n      <td>SCHOOL21002RUS</td>\n      <td>2</td>\n      <td>3800.0</td>\n      <td>Ford</td>\n      <td>Focus</td>\n      <td>2013</td>\n    </tr>\n    <tr>\n      <th>928</th>\n      <td>SCHOOL21003RUS</td>\n      <td>2</td>\n      <td>1600.0</td>\n      <td>Ford</td>\n      <td>Focus</td>\n      <td>1992</td>\n    </tr>\n    <tr>\n      <th>929</th>\n      <td>SCHOOL21004RUS</td>\n      <td>2</td>\n      <td>1000.0</td>\n      <td>Ford</td>\n      <td>Focus</td>\n      <td>2005</td>\n    </tr>\n  </tbody>\n</table>\n<p>930 rows × 6 columns</p>\n</div>"
     },
     "execution_count": 34,
     "metadata": {},
     "output_type": "execute_result"
    }
   ],
   "source": [
    "df = pd.read_csv('../data/fines.csv')\n",
    "df"
   ],
   "metadata": {
    "collapsed": false
   }
  },
  {
   "cell_type": "markdown",
   "source": [
    "## Iterations: loop"
   ],
   "metadata": {
    "collapsed": false
   }
  },
  {
   "cell_type": "code",
   "execution_count": 35,
   "outputs": [],
   "source": [
    "def iterations_loop(df_loop):\n",
    "    result = []\n",
    "    for i in range(0, len(df_loop)):\n",
    "        result.append(df_loop.iloc[i]['Fines'] / df_loop.iloc[i]['Refund'] * df_loop.iloc[i]['Year'])\n",
    "    df_loop['Calculated'] = result"
   ],
   "metadata": {
    "collapsed": false
   }
  },
  {
   "cell_type": "code",
   "execution_count": 36,
   "outputs": [
    {
     "name": "stdout",
     "output_type": "stream",
     "text": [
      "215 ms ± 6.81 ms per loop (mean ± std. dev. of 7 runs, 1 loop each)\n"
     ]
    }
   ],
   "source": [
    "%%timeit\n",
    "\n",
    "df['Sum1'] = iterations_loop(df)"
   ],
   "metadata": {
    "collapsed": false
   }
  },
  {
   "cell_type": "markdown",
   "source": [
    "## Iterations: *iterrows()*"
   ],
   "metadata": {
    "collapsed": false
   }
  },
  {
   "cell_type": "code",
   "execution_count": 37,
   "outputs": [],
   "source": [
    "def iterations_iterrows(df_rows):\n",
    "    result = []\n",
    "    for row in df_rows.iterrows():\n",
    "        result.append(row[1]['Fines'] / row[1]['Refund'] * row[1]['Year'])\n",
    "    df_rows['Calculated'] = result"
   ],
   "metadata": {
    "collapsed": false
   }
  },
  {
   "cell_type": "code",
   "execution_count": 38,
   "outputs": [
    {
     "name": "stdout",
     "output_type": "stream",
     "text": [
      "42.5 ms ± 1.79 ms per loop (mean ± std. dev. of 7 runs, 10 loops each)\n"
     ]
    }
   ],
   "source": [
    "%%timeit\n",
    "\n",
    "df['Sum2'] = iterations_iterrows(df)"
   ],
   "metadata": {
    "collapsed": false
   }
  },
  {
   "cell_type": "markdown",
   "source": [
    "## Iterations: *apply()*"
   ],
   "metadata": {
    "collapsed": false
   }
  },
  {
   "cell_type": "code",
   "execution_count": 39,
   "outputs": [],
   "source": [
    "def iterations_apply(df_apply):\n",
    "    df_apply['Calculated'] = df_apply.apply(lambda row: row['Fines'] / row['Refund'] * row['Year'], axis='columns')"
   ],
   "metadata": {
    "collapsed": false
   }
  },
  {
   "cell_type": "code",
   "execution_count": 40,
   "outputs": [
    {
     "name": "stdout",
     "output_type": "stream",
     "text": [
      "10.3 ms ± 58.7 µs per loop (mean ± std. dev. of 7 runs, 100 loops each)\n"
     ]
    }
   ],
   "source": [
    "%%timeit\n",
    "\n",
    "df['Sum3'] = iterations_apply(df)"
   ],
   "metadata": {
    "collapsed": false
   }
  },
  {
   "cell_type": "markdown",
   "source": [
    "## Iterations: Series"
   ],
   "metadata": {
    "collapsed": false
   }
  },
  {
   "cell_type": "code",
   "execution_count": 41,
   "outputs": [],
   "source": [
    "def iterations_series(df_series):\n",
    "    df_series['Calculated'] = df_series['Fines'] / df_series['Refund'] * df_series['Year']"
   ],
   "metadata": {
    "collapsed": false
   }
  },
  {
   "cell_type": "code",
   "execution_count": 42,
   "outputs": [
    {
     "name": "stdout",
     "output_type": "stream",
     "text": [
      "344 µs ± 1.94 µs per loop (mean ± std. dev. of 7 runs, 1,000 loops each)\n"
     ]
    }
   ],
   "source": [
    "%%timeit\n",
    "\n",
    "df['Sum4'] = iterations_series(df)"
   ],
   "metadata": {
    "collapsed": false
   }
  },
  {
   "cell_type": "markdown",
   "source": [
    "## Iterations: Series and values"
   ],
   "metadata": {
    "collapsed": false
   }
  },
  {
   "cell_type": "code",
   "execution_count": 43,
   "outputs": [],
   "source": [
    "def iterations_series_values(df_series_values):\n",
    "    df_series_values['Calculated'] = df_series_values['Fines'].values / df_series_values['Refund'].values * df_series_values['Year'].values"
   ],
   "metadata": {
    "collapsed": false
   }
  },
  {
   "cell_type": "code",
   "execution_count": 44,
   "outputs": [
    {
     "name": "stdout",
     "output_type": "stream",
     "text": [
      "166 µs ± 885 ns per loop (mean ± std. dev. of 7 runs, 10,000 loops each)\n"
     ]
    }
   ],
   "source": [
    "%%timeit\n",
    "\n",
    "df['Sum5'] = iterations_series_values(df)"
   ],
   "metadata": {
    "collapsed": false
   }
  },
  {
   "cell_type": "markdown",
   "source": [
    "## Index"
   ],
   "metadata": {
    "collapsed": false
   }
  },
  {
   "cell_type": "code",
   "execution_count": 45,
   "outputs": [
    {
     "name": "stdout",
     "output_type": "stream",
     "text": [
      "315 µs ± 19.2 µs per loop (mean ± std. dev. of 7 runs, 1,000 loops each)\n"
     ]
    }
   ],
   "source": [
    "%%timeit\n",
    "\n",
    "df[df['CarNumber'] == 'O136HO197RUS']"
   ],
   "metadata": {
    "collapsed": false
   }
  },
  {
   "cell_type": "code",
   "execution_count": 46,
   "outputs": [],
   "source": [
    "df.set_index('CarNumber', inplace=True)"
   ],
   "metadata": {
    "collapsed": false
   }
  },
  {
   "cell_type": "code",
   "execution_count": 47,
   "outputs": [
    {
     "name": "stdout",
     "output_type": "stream",
     "text": [
      "149 µs ± 758 ns per loop (mean ± std. dev. of 7 runs, 10,000 loops each)\n"
     ]
    }
   ],
   "source": [
    "%%timeit\n",
    "\n",
    "df.loc['O136HO197RUS']"
   ],
   "metadata": {
    "collapsed": false
   }
  },
  {
   "cell_type": "markdown",
   "source": [
    "## Downcasting"
   ],
   "metadata": {
    "collapsed": false
   }
  },
  {
   "cell_type": "code",
   "execution_count": 48,
   "outputs": [
    {
     "name": "stdout",
     "output_type": "stream",
     "text": [
      "<class 'pandas.core.frame.DataFrame'>\n",
      "Index: 930 entries, Y163O8161RUS to SCHOOL21004RUS\n",
      "Data columns (total 11 columns):\n",
      " #   Column      Non-Null Count  Dtype  \n",
      "---  ------      --------------  -----  \n",
      " 0   Refund      930 non-null    int64  \n",
      " 1   Fines       930 non-null    float64\n",
      " 2   Make        930 non-null    object \n",
      " 3   Model       919 non-null    object \n",
      " 4   Year        930 non-null    int64  \n",
      " 5   Calculated  930 non-null    float64\n",
      " 6   Sum1        0 non-null      object \n",
      " 7   Sum2        0 non-null      object \n",
      " 8   Sum3        0 non-null      object \n",
      " 9   Sum4        0 non-null      object \n",
      " 10  Sum5        0 non-null      object \n",
      "dtypes: float64(2), int64(2), object(7)\n",
      "memory usage: 345.0 KB\n"
     ]
    }
   ],
   "source": [
    "df.info(memory_usage='deep')"
   ],
   "metadata": {
    "collapsed": false
   }
  },
  {
   "cell_type": "code",
   "execution_count": 49,
   "outputs": [],
   "source": [
    "copy = df.copy()"
   ],
   "metadata": {
    "collapsed": false
   }
  },
  {
   "cell_type": "code",
   "execution_count": 50,
   "outputs": [],
   "source": [
    "fcols = copy.select_dtypes('float').columns\n",
    "icols = copy.select_dtypes('integer').columns\n",
    "\n",
    "copy[fcols] = copy[fcols].apply(pd.to_numeric, downcast='float')\n",
    "copy[icols] = copy[icols].apply(pd.to_numeric, downcast='integer')"
   ],
   "metadata": {
    "collapsed": false
   }
  },
  {
   "cell_type": "code",
   "execution_count": 51,
   "outputs": [
    {
     "name": "stdout",
     "output_type": "stream",
     "text": [
      "<class 'pandas.core.frame.DataFrame'>\n",
      "Index: 930 entries, Y163O8161RUS to SCHOOL21004RUS\n",
      "Data columns (total 11 columns):\n",
      " #   Column      Non-Null Count  Dtype  \n",
      "---  ------      --------------  -----  \n",
      " 0   Refund      930 non-null    int8   \n",
      " 1   Fines       930 non-null    float32\n",
      " 2   Make        930 non-null    object \n",
      " 3   Model       919 non-null    object \n",
      " 4   Year        930 non-null    int16  \n",
      " 5   Calculated  930 non-null    float64\n",
      " 6   Sum1        0 non-null      object \n",
      " 7   Sum2        0 non-null      object \n",
      " 8   Sum3        0 non-null      object \n",
      " 9   Sum4        0 non-null      object \n",
      " 10  Sum5        0 non-null      object \n",
      "dtypes: float32(1), float64(1), int16(1), int8(1), object(7)\n",
      "memory usage: 329.5 KB\n"
     ]
    }
   ],
   "source": [
    "copy.info(memory_usage='deep')"
   ],
   "metadata": {
    "collapsed": false
   }
  },
  {
   "cell_type": "markdown",
   "source": [
    "## Categories"
   ],
   "metadata": {
    "collapsed": false
   }
  },
  {
   "cell_type": "code",
   "execution_count": 52,
   "outputs": [],
   "source": [
    "df[df.select_dtypes(['object']).columns] = df.select_dtypes(['object']).apply(lambda x: x.astype('category'))"
   ],
   "metadata": {
    "collapsed": false
   }
  },
  {
   "cell_type": "code",
   "execution_count": 53,
   "outputs": [
    {
     "name": "stdout",
     "output_type": "stream",
     "text": [
      "<class 'pandas.core.frame.DataFrame'>\n",
      "Index: 930 entries, Y163O8161RUS to SCHOOL21004RUS\n",
      "Data columns (total 11 columns):\n",
      " #   Column      Non-Null Count  Dtype   \n",
      "---  ------      --------------  -----   \n",
      " 0   Refund      930 non-null    int64   \n",
      " 1   Fines       930 non-null    float64 \n",
      " 2   Make        930 non-null    category\n",
      " 3   Model       919 non-null    category\n",
      " 4   Year        930 non-null    int64   \n",
      " 5   Calculated  930 non-null    float64 \n",
      " 6   Sum1        0 non-null      category\n",
      " 7   Sum2        0 non-null      category\n",
      " 8   Sum3        0 non-null      category\n",
      " 9   Sum4        0 non-null      category\n",
      " 10  Sum5        0 non-null      category\n",
      "dtypes: category(7), float64(2), int64(2)\n",
      "memory usage: 132.3 KB\n"
     ]
    }
   ],
   "source": [
    "df.info(memory_usage='deep')"
   ],
   "metadata": {
    "collapsed": false
   }
  },
  {
   "cell_type": "markdown",
   "source": [
    "##  Memory clean"
   ],
   "metadata": {
    "collapsed": false
   }
  },
  {
   "cell_type": "code",
   "execution_count": 54,
   "outputs": [
    {
     "data": {
      "text/plain": "7"
     },
     "execution_count": 54,
     "metadata": {},
     "output_type": "execute_result"
    }
   ],
   "source": [
    "%reset_selective df\n",
    "\n",
    "gc.collect()"
   ],
   "metadata": {
    "collapsed": false
   }
  }
 ],
 "metadata": {
  "kernelspec": {
   "display_name": "Python 3",
   "language": "python",
   "name": "python3"
  },
  "language_info": {
   "codemirror_mode": {
    "name": "ipython",
    "version": 2
   },
   "file_extension": ".py",
   "mimetype": "text/x-python",
   "name": "python",
   "nbconvert_exporter": "python",
   "pygments_lexer": "ipython2",
   "version": "2.7.6"
  }
 },
 "nbformat": 4,
 "nbformat_minor": 0
}
