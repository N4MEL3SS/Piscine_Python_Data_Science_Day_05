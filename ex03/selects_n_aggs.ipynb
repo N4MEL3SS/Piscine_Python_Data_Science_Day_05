{
 "cells": [
  {
   "cell_type": "markdown",
   "source": [
    "# Exercise 03 : Selects and aggregations\n"
   ],
   "metadata": {
    "collapsed": false
   }
  },
  {
   "cell_type": "markdown",
   "source": [
    "## Imports"
   ],
   "metadata": {
    "collapsed": false
   }
  },
  {
   "cell_type": "code",
   "execution_count": 1,
   "outputs": [],
   "source": [
    "import pandas as pd"
   ],
   "metadata": {
    "collapsed": false
   }
  },
  {
   "cell_type": "markdown",
   "source": [
    "##  Load the JSON file and set `CarNumber` as the index column"
   ],
   "metadata": {
    "collapsed": false
   }
  },
  {
   "cell_type": "code",
   "execution_count": 2,
   "outputs": [
    {
     "data": {
      "text/plain": "              Refund   Fines    Make  Model\nCarNumber                                  \nY163O8161RUS       2  3200.0    Ford  Focus\nE432XX77RUS        1  6500.0  Toyota  Camry\n7184TT36RUS        1  2100.0    Ford  Focus\nX582HE161RUS       2  2000.0    Ford  Focus\n92918M178RUS       1  5700.0    Ford  Focus",
      "text/html": "<div>\n<style scoped>\n    .dataframe tbody tr th:only-of-type {\n        vertical-align: middle;\n    }\n\n    .dataframe tbody tr th {\n        vertical-align: top;\n    }\n\n    .dataframe thead th {\n        text-align: right;\n    }\n</style>\n<table border=\"1\" class=\"dataframe\">\n  <thead>\n    <tr style=\"text-align: right;\">\n      <th></th>\n      <th>Refund</th>\n      <th>Fines</th>\n      <th>Make</th>\n      <th>Model</th>\n    </tr>\n    <tr>\n      <th>CarNumber</th>\n      <th></th>\n      <th></th>\n      <th></th>\n      <th></th>\n    </tr>\n  </thead>\n  <tbody>\n    <tr>\n      <th>Y163O8161RUS</th>\n      <td>2</td>\n      <td>3200.0</td>\n      <td>Ford</td>\n      <td>Focus</td>\n    </tr>\n    <tr>\n      <th>E432XX77RUS</th>\n      <td>1</td>\n      <td>6500.0</td>\n      <td>Toyota</td>\n      <td>Camry</td>\n    </tr>\n    <tr>\n      <th>7184TT36RUS</th>\n      <td>1</td>\n      <td>2100.0</td>\n      <td>Ford</td>\n      <td>Focus</td>\n    </tr>\n    <tr>\n      <th>X582HE161RUS</th>\n      <td>2</td>\n      <td>2000.0</td>\n      <td>Ford</td>\n      <td>Focus</td>\n    </tr>\n    <tr>\n      <th>92918M178RUS</th>\n      <td>1</td>\n      <td>5700.0</td>\n      <td>Ford</td>\n      <td>Focus</td>\n    </tr>\n  </tbody>\n</table>\n</div>"
     },
     "execution_count": 2,
     "metadata": {},
     "output_type": "execute_result"
    }
   ],
   "source": [
    "df = pd.read_json('../data/auto.json', orient='records')\n",
    "df.set_index('CarNumber', inplace=True)\n",
    "df.head()"
   ],
   "metadata": {
    "collapsed": false
   }
  },
  {
   "cell_type": "markdown",
   "source": [
    "## Display:"
   ],
   "metadata": {
    "collapsed": false
   }
  },
  {
   "cell_type": "markdown",
   "source": [
    "### Display the rows only where the `Fines` are more than 2,100"
   ],
   "metadata": {
    "collapsed": false
   }
  },
  {
   "cell_type": "code",
   "execution_count": 3,
   "outputs": [
    {
     "data": {
      "text/plain": "              Refund         Fines        Make    Model\nCarNumber                                              \nY163O8161RUS       2   3200.000000        Ford    Focus\nE432XX77RUS        1   6500.000000      Toyota    Camry\n92918M178RUS       1   5700.000000        Ford    Focus\nH234YH197RUS       2   6000.000000        Ford    Focus\nE40577152RUS       1   8594.586466        Ford    Focus\n...              ...           ...         ...      ...\nO718MM163RUS       2   8594.586466        Ford    Focus\n7065C8197RUS       2  11400.000000  Volkswagen   Passat\nO22097197RUS       1  24300.000000        Ford    Focus\nM0309X197RUS       1  22300.000000        Ford    Focus\nH419XE197RUS       2   8594.586466      Toyota  Corolla\n\n[455 rows x 4 columns]",
      "text/html": "<div>\n<style scoped>\n    .dataframe tbody tr th:only-of-type {\n        vertical-align: middle;\n    }\n\n    .dataframe tbody tr th {\n        vertical-align: top;\n    }\n\n    .dataframe thead th {\n        text-align: right;\n    }\n</style>\n<table border=\"1\" class=\"dataframe\">\n  <thead>\n    <tr style=\"text-align: right;\">\n      <th></th>\n      <th>Refund</th>\n      <th>Fines</th>\n      <th>Make</th>\n      <th>Model</th>\n    </tr>\n    <tr>\n      <th>CarNumber</th>\n      <th></th>\n      <th></th>\n      <th></th>\n      <th></th>\n    </tr>\n  </thead>\n  <tbody>\n    <tr>\n      <th>Y163O8161RUS</th>\n      <td>2</td>\n      <td>3200.000000</td>\n      <td>Ford</td>\n      <td>Focus</td>\n    </tr>\n    <tr>\n      <th>E432XX77RUS</th>\n      <td>1</td>\n      <td>6500.000000</td>\n      <td>Toyota</td>\n      <td>Camry</td>\n    </tr>\n    <tr>\n      <th>92918M178RUS</th>\n      <td>1</td>\n      <td>5700.000000</td>\n      <td>Ford</td>\n      <td>Focus</td>\n    </tr>\n    <tr>\n      <th>H234YH197RUS</th>\n      <td>2</td>\n      <td>6000.000000</td>\n      <td>Ford</td>\n      <td>Focus</td>\n    </tr>\n    <tr>\n      <th>E40577152RUS</th>\n      <td>1</td>\n      <td>8594.586466</td>\n      <td>Ford</td>\n      <td>Focus</td>\n    </tr>\n    <tr>\n      <th>...</th>\n      <td>...</td>\n      <td>...</td>\n      <td>...</td>\n      <td>...</td>\n    </tr>\n    <tr>\n      <th>O718MM163RUS</th>\n      <td>2</td>\n      <td>8594.586466</td>\n      <td>Ford</td>\n      <td>Focus</td>\n    </tr>\n    <tr>\n      <th>7065C8197RUS</th>\n      <td>2</td>\n      <td>11400.000000</td>\n      <td>Volkswagen</td>\n      <td>Passat</td>\n    </tr>\n    <tr>\n      <th>O22097197RUS</th>\n      <td>1</td>\n      <td>24300.000000</td>\n      <td>Ford</td>\n      <td>Focus</td>\n    </tr>\n    <tr>\n      <th>M0309X197RUS</th>\n      <td>1</td>\n      <td>22300.000000</td>\n      <td>Ford</td>\n      <td>Focus</td>\n    </tr>\n    <tr>\n      <th>H419XE197RUS</th>\n      <td>2</td>\n      <td>8594.586466</td>\n      <td>Toyota</td>\n      <td>Corolla</td>\n    </tr>\n  </tbody>\n</table>\n<p>455 rows × 4 columns</p>\n</div>"
     },
     "execution_count": 3,
     "metadata": {},
     "output_type": "execute_result"
    }
   ],
   "source": [
    "df[df['Fines'] > 2100]"
   ],
   "metadata": {
    "collapsed": false
   }
  },
  {
   "cell_type": "markdown",
   "source": [
    "### Display the rows only where the `Fines` are more than 2,100 and the `Refund` equals 2\n"
   ],
   "metadata": {
    "collapsed": false
   }
  },
  {
   "cell_type": "code",
   "execution_count": 4,
   "outputs": [
    {
     "data": {
      "text/plain": "              Refund         Fines        Make    Model\nCarNumber                                              \nY163O8161RUS       2   3200.000000        Ford    Focus\nH234YH197RUS       2   6000.000000        Ford    Focus\n707987163RUS       2   2200.000000        Ford    Focus\nK330T8197RUS       2   8200.000000       Skoda  Octavia\nM592CH197RUS       2   8594.586466       Skoda  Octavia\n...              ...           ...         ...      ...\nO136HO197RUS       2   7800.000000      Toyota  Corolla\nO68897197RUS       2  12300.000000        Ford    Focus\nO718MM163RUS       2   8594.586466        Ford    Focus\n7065C8197RUS       2  11400.000000  Volkswagen   Passat\nH419XE197RUS       2   8594.586466      Toyota  Corolla\n\n[309 rows x 4 columns]",
      "text/html": "<div>\n<style scoped>\n    .dataframe tbody tr th:only-of-type {\n        vertical-align: middle;\n    }\n\n    .dataframe tbody tr th {\n        vertical-align: top;\n    }\n\n    .dataframe thead th {\n        text-align: right;\n    }\n</style>\n<table border=\"1\" class=\"dataframe\">\n  <thead>\n    <tr style=\"text-align: right;\">\n      <th></th>\n      <th>Refund</th>\n      <th>Fines</th>\n      <th>Make</th>\n      <th>Model</th>\n    </tr>\n    <tr>\n      <th>CarNumber</th>\n      <th></th>\n      <th></th>\n      <th></th>\n      <th></th>\n    </tr>\n  </thead>\n  <tbody>\n    <tr>\n      <th>Y163O8161RUS</th>\n      <td>2</td>\n      <td>3200.000000</td>\n      <td>Ford</td>\n      <td>Focus</td>\n    </tr>\n    <tr>\n      <th>H234YH197RUS</th>\n      <td>2</td>\n      <td>6000.000000</td>\n      <td>Ford</td>\n      <td>Focus</td>\n    </tr>\n    <tr>\n      <th>707987163RUS</th>\n      <td>2</td>\n      <td>2200.000000</td>\n      <td>Ford</td>\n      <td>Focus</td>\n    </tr>\n    <tr>\n      <th>K330T8197RUS</th>\n      <td>2</td>\n      <td>8200.000000</td>\n      <td>Skoda</td>\n      <td>Octavia</td>\n    </tr>\n    <tr>\n      <th>M592CH197RUS</th>\n      <td>2</td>\n      <td>8594.586466</td>\n      <td>Skoda</td>\n      <td>Octavia</td>\n    </tr>\n    <tr>\n      <th>...</th>\n      <td>...</td>\n      <td>...</td>\n      <td>...</td>\n      <td>...</td>\n    </tr>\n    <tr>\n      <th>O136HO197RUS</th>\n      <td>2</td>\n      <td>7800.000000</td>\n      <td>Toyota</td>\n      <td>Corolla</td>\n    </tr>\n    <tr>\n      <th>O68897197RUS</th>\n      <td>2</td>\n      <td>12300.000000</td>\n      <td>Ford</td>\n      <td>Focus</td>\n    </tr>\n    <tr>\n      <th>O718MM163RUS</th>\n      <td>2</td>\n      <td>8594.586466</td>\n      <td>Ford</td>\n      <td>Focus</td>\n    </tr>\n    <tr>\n      <th>7065C8197RUS</th>\n      <td>2</td>\n      <td>11400.000000</td>\n      <td>Volkswagen</td>\n      <td>Passat</td>\n    </tr>\n    <tr>\n      <th>H419XE197RUS</th>\n      <td>2</td>\n      <td>8594.586466</td>\n      <td>Toyota</td>\n      <td>Corolla</td>\n    </tr>\n  </tbody>\n</table>\n<p>309 rows × 4 columns</p>\n</div>"
     },
     "execution_count": 4,
     "metadata": {},
     "output_type": "execute_result"
    }
   ],
   "source": [
    "df[(df['Fines'] > 2100) & (df['Refund'] == 2)]"
   ],
   "metadata": {
    "collapsed": false
   }
  },
  {
   "cell_type": "markdown",
   "source": [
    "### Display the rows only where the `Model` are from the list: [’Focus’, ’Corolla’]"
   ],
   "metadata": {
    "collapsed": false
   }
  },
  {
   "cell_type": "code",
   "execution_count": 5,
   "outputs": [
    {
     "data": {
      "text/plain": "              Refund         Fines    Make    Model\nCarNumber                                          \nY163O8161RUS       2   3200.000000    Ford    Focus\n7184TT36RUS        1   2100.000000    Ford    Focus\nX582HE161RUS       2   2000.000000    Ford    Focus\n92918M178RUS       1   5700.000000    Ford    Focus\nH234YH197RUS       2   6000.000000    Ford    Focus\n...              ...           ...     ...      ...\nY163O8161RUS       2   1600.000000    Ford    Focus\nM0309X197RUS       1  22300.000000    Ford    Focus\nO673E8197RUS       2    600.000000    Ford    Focus\n8610T8154RUS       1   2000.000000    Ford    Focus\nH419XE197RUS       2   8594.586466  Toyota  Corolla\n\n[593 rows x 4 columns]",
      "text/html": "<div>\n<style scoped>\n    .dataframe tbody tr th:only-of-type {\n        vertical-align: middle;\n    }\n\n    .dataframe tbody tr th {\n        vertical-align: top;\n    }\n\n    .dataframe thead th {\n        text-align: right;\n    }\n</style>\n<table border=\"1\" class=\"dataframe\">\n  <thead>\n    <tr style=\"text-align: right;\">\n      <th></th>\n      <th>Refund</th>\n      <th>Fines</th>\n      <th>Make</th>\n      <th>Model</th>\n    </tr>\n    <tr>\n      <th>CarNumber</th>\n      <th></th>\n      <th></th>\n      <th></th>\n      <th></th>\n    </tr>\n  </thead>\n  <tbody>\n    <tr>\n      <th>Y163O8161RUS</th>\n      <td>2</td>\n      <td>3200.000000</td>\n      <td>Ford</td>\n      <td>Focus</td>\n    </tr>\n    <tr>\n      <th>7184TT36RUS</th>\n      <td>1</td>\n      <td>2100.000000</td>\n      <td>Ford</td>\n      <td>Focus</td>\n    </tr>\n    <tr>\n      <th>X582HE161RUS</th>\n      <td>2</td>\n      <td>2000.000000</td>\n      <td>Ford</td>\n      <td>Focus</td>\n    </tr>\n    <tr>\n      <th>92918M178RUS</th>\n      <td>1</td>\n      <td>5700.000000</td>\n      <td>Ford</td>\n      <td>Focus</td>\n    </tr>\n    <tr>\n      <th>H234YH197RUS</th>\n      <td>2</td>\n      <td>6000.000000</td>\n      <td>Ford</td>\n      <td>Focus</td>\n    </tr>\n    <tr>\n      <th>...</th>\n      <td>...</td>\n      <td>...</td>\n      <td>...</td>\n      <td>...</td>\n    </tr>\n    <tr>\n      <th>Y163O8161RUS</th>\n      <td>2</td>\n      <td>1600.000000</td>\n      <td>Ford</td>\n      <td>Focus</td>\n    </tr>\n    <tr>\n      <th>M0309X197RUS</th>\n      <td>1</td>\n      <td>22300.000000</td>\n      <td>Ford</td>\n      <td>Focus</td>\n    </tr>\n    <tr>\n      <th>O673E8197RUS</th>\n      <td>2</td>\n      <td>600.000000</td>\n      <td>Ford</td>\n      <td>Focus</td>\n    </tr>\n    <tr>\n      <th>8610T8154RUS</th>\n      <td>1</td>\n      <td>2000.000000</td>\n      <td>Ford</td>\n      <td>Focus</td>\n    </tr>\n    <tr>\n      <th>H419XE197RUS</th>\n      <td>2</td>\n      <td>8594.586466</td>\n      <td>Toyota</td>\n      <td>Corolla</td>\n    </tr>\n  </tbody>\n</table>\n<p>593 rows × 4 columns</p>\n</div>"
     },
     "execution_count": 5,
     "metadata": {},
     "output_type": "execute_result"
    }
   ],
   "source": [
    "df[df['Model'].isin(['Focus', 'Corolla'])]"
   ],
   "metadata": {
    "collapsed": false
   }
  },
  {
   "cell_type": "markdown",
   "source": [
    "### Display the rows only where the `CarNumber` is from the list: [’Y7689C197RUS’, ’92928M178RUS’, ’7788KT197RUS’, ’H115YO163RUS’, ’X758HY197RUS’]"
   ],
   "metadata": {
    "collapsed": false
   }
  },
  {
   "cell_type": "code",
   "execution_count": 6,
   "outputs": [
    {
     "data": {
      "text/plain": "              Refund          Fines  Make  Model\nCarNumber                                       \n92928M178RUS       1    8594.586466  Ford  Focus\nH115YO163RUS       1    2200.000000  Ford  Focus\n7788KT197RUS       2   12000.000000  Ford  Focus\nX758HY197RUS       2   24200.000000  Ford  Focus\nX758HY197RUS       2   72600.000000  Ford  Focus\nY7689C197RUS       1   27000.000000  Ford  Focus\n92928M178RUS       1     600.000000  Ford  Focus\nH115YO163RUS       1    8594.586466  Ford  Focus\nH115YO163RUS       2    1100.000000  Ford  Focus\n7788KT197RUS       2    8594.586466  Ford  Focus\n7788KT197RUS       1   20000.000000  Ford  Focus\nX758HY197RUS       2  145200.000000  Ford  Focus\n92928M178RUS       1    1200.000000  Ford  Focus\nY7689C197RUS       2    9000.000000  Ford  Focus\nY7689C197RUS       2   45000.000000  Ford  Focus\n7788KT197RUS       2    4000.000000  Ford  Focus\nY7689C197RUS       1   36000.000000  Ford  Focus\n92928M178RUS       2    3000.000000  Ford  Focus",
      "text/html": "<div>\n<style scoped>\n    .dataframe tbody tr th:only-of-type {\n        vertical-align: middle;\n    }\n\n    .dataframe tbody tr th {\n        vertical-align: top;\n    }\n\n    .dataframe thead th {\n        text-align: right;\n    }\n</style>\n<table border=\"1\" class=\"dataframe\">\n  <thead>\n    <tr style=\"text-align: right;\">\n      <th></th>\n      <th>Refund</th>\n      <th>Fines</th>\n      <th>Make</th>\n      <th>Model</th>\n    </tr>\n    <tr>\n      <th>CarNumber</th>\n      <th></th>\n      <th></th>\n      <th></th>\n      <th></th>\n    </tr>\n  </thead>\n  <tbody>\n    <tr>\n      <th>92928M178RUS</th>\n      <td>1</td>\n      <td>8594.586466</td>\n      <td>Ford</td>\n      <td>Focus</td>\n    </tr>\n    <tr>\n      <th>H115YO163RUS</th>\n      <td>1</td>\n      <td>2200.000000</td>\n      <td>Ford</td>\n      <td>Focus</td>\n    </tr>\n    <tr>\n      <th>7788KT197RUS</th>\n      <td>2</td>\n      <td>12000.000000</td>\n      <td>Ford</td>\n      <td>Focus</td>\n    </tr>\n    <tr>\n      <th>X758HY197RUS</th>\n      <td>2</td>\n      <td>24200.000000</td>\n      <td>Ford</td>\n      <td>Focus</td>\n    </tr>\n    <tr>\n      <th>X758HY197RUS</th>\n      <td>2</td>\n      <td>72600.000000</td>\n      <td>Ford</td>\n      <td>Focus</td>\n    </tr>\n    <tr>\n      <th>Y7689C197RUS</th>\n      <td>1</td>\n      <td>27000.000000</td>\n      <td>Ford</td>\n      <td>Focus</td>\n    </tr>\n    <tr>\n      <th>92928M178RUS</th>\n      <td>1</td>\n      <td>600.000000</td>\n      <td>Ford</td>\n      <td>Focus</td>\n    </tr>\n    <tr>\n      <th>H115YO163RUS</th>\n      <td>1</td>\n      <td>8594.586466</td>\n      <td>Ford</td>\n      <td>Focus</td>\n    </tr>\n    <tr>\n      <th>H115YO163RUS</th>\n      <td>2</td>\n      <td>1100.000000</td>\n      <td>Ford</td>\n      <td>Focus</td>\n    </tr>\n    <tr>\n      <th>7788KT197RUS</th>\n      <td>2</td>\n      <td>8594.586466</td>\n      <td>Ford</td>\n      <td>Focus</td>\n    </tr>\n    <tr>\n      <th>7788KT197RUS</th>\n      <td>1</td>\n      <td>20000.000000</td>\n      <td>Ford</td>\n      <td>Focus</td>\n    </tr>\n    <tr>\n      <th>X758HY197RUS</th>\n      <td>2</td>\n      <td>145200.000000</td>\n      <td>Ford</td>\n      <td>Focus</td>\n    </tr>\n    <tr>\n      <th>92928M178RUS</th>\n      <td>1</td>\n      <td>1200.000000</td>\n      <td>Ford</td>\n      <td>Focus</td>\n    </tr>\n    <tr>\n      <th>Y7689C197RUS</th>\n      <td>2</td>\n      <td>9000.000000</td>\n      <td>Ford</td>\n      <td>Focus</td>\n    </tr>\n    <tr>\n      <th>Y7689C197RUS</th>\n      <td>2</td>\n      <td>45000.000000</td>\n      <td>Ford</td>\n      <td>Focus</td>\n    </tr>\n    <tr>\n      <th>7788KT197RUS</th>\n      <td>2</td>\n      <td>4000.000000</td>\n      <td>Ford</td>\n      <td>Focus</td>\n    </tr>\n    <tr>\n      <th>Y7689C197RUS</th>\n      <td>1</td>\n      <td>36000.000000</td>\n      <td>Ford</td>\n      <td>Focus</td>\n    </tr>\n    <tr>\n      <th>92928M178RUS</th>\n      <td>2</td>\n      <td>3000.000000</td>\n      <td>Ford</td>\n      <td>Focus</td>\n    </tr>\n  </tbody>\n</table>\n</div>"
     },
     "execution_count": 6,
     "metadata": {},
     "output_type": "execute_result"
    }
   ],
   "source": [
    "df[df.index.isin(['Y7689C197RUS', '92928M178RUS', '7788KT197RUS', 'H115YO163RUS', 'X758HY197RUS'])]"
   ],
   "metadata": {
    "collapsed": false
   }
  },
  {
   "cell_type": "markdown",
   "source": [
    "## Make the aggregations with the `make` and the `model`"
   ],
   "metadata": {
    "collapsed": false
   }
  },
  {
   "cell_type": "markdown",
   "source": [
    "### Display the median fines grouped by the `make`"
   ],
   "metadata": {
    "collapsed": false
   }
  },
  {
   "cell_type": "code",
   "execution_count": 7,
   "outputs": [
    {
     "data": {
      "text/plain": "            median\nMake              \nAudi        4200.0\nBMW         6500.0\nFord        3500.0\nSkoda       3250.0\nToyota      7700.0\nVolkswagen  4300.0\nVolvo       8500.0",
      "text/html": "<div>\n<style scoped>\n    .dataframe tbody tr th:only-of-type {\n        vertical-align: middle;\n    }\n\n    .dataframe tbody tr th {\n        vertical-align: top;\n    }\n\n    .dataframe thead th {\n        text-align: right;\n    }\n</style>\n<table border=\"1\" class=\"dataframe\">\n  <thead>\n    <tr style=\"text-align: right;\">\n      <th></th>\n      <th>median</th>\n    </tr>\n    <tr>\n      <th>Make</th>\n      <th></th>\n    </tr>\n  </thead>\n  <tbody>\n    <tr>\n      <th>Audi</th>\n      <td>4200.0</td>\n    </tr>\n    <tr>\n      <th>BMW</th>\n      <td>6500.0</td>\n    </tr>\n    <tr>\n      <th>Ford</th>\n      <td>3500.0</td>\n    </tr>\n    <tr>\n      <th>Skoda</th>\n      <td>3250.0</td>\n    </tr>\n    <tr>\n      <th>Toyota</th>\n      <td>7700.0</td>\n    </tr>\n    <tr>\n      <th>Volkswagen</th>\n      <td>4300.0</td>\n    </tr>\n    <tr>\n      <th>Volvo</th>\n      <td>8500.0</td>\n    </tr>\n  </tbody>\n</table>\n</div>"
     },
     "execution_count": 7,
     "metadata": {},
     "output_type": "execute_result"
    }
   ],
   "source": [
    "df.groupby('Make')['Fines'].agg(['median'])"
   ],
   "metadata": {
    "collapsed": false
   }
  },
  {
   "cell_type": "markdown",
   "source": [
    "### Display the median fines grouped by the `make` and the `model`"
   ],
   "metadata": {
    "collapsed": false
   }
  },
  {
   "cell_type": "code",
   "execution_count": 8,
   "outputs": [
    {
     "data": {
      "text/plain": "                    median\nMake       Model          \nFord       Focus    3500.0\n           Mondeo   7650.0\nSkoda      Octavia  3250.0\nToyota     Camry    7700.0\n           Corolla  7700.0\nVolkswagen Golf     4800.0\n           Jetta    2800.0\n           Passat   3500.0\n           Touareg  5800.0",
      "text/html": "<div>\n<style scoped>\n    .dataframe tbody tr th:only-of-type {\n        vertical-align: middle;\n    }\n\n    .dataframe tbody tr th {\n        vertical-align: top;\n    }\n\n    .dataframe thead th {\n        text-align: right;\n    }\n</style>\n<table border=\"1\" class=\"dataframe\">\n  <thead>\n    <tr style=\"text-align: right;\">\n      <th></th>\n      <th></th>\n      <th>median</th>\n    </tr>\n    <tr>\n      <th>Make</th>\n      <th>Model</th>\n      <th></th>\n    </tr>\n  </thead>\n  <tbody>\n    <tr>\n      <th rowspan=\"2\" valign=\"top\">Ford</th>\n      <th>Focus</th>\n      <td>3500.0</td>\n    </tr>\n    <tr>\n      <th>Mondeo</th>\n      <td>7650.0</td>\n    </tr>\n    <tr>\n      <th>Skoda</th>\n      <th>Octavia</th>\n      <td>3250.0</td>\n    </tr>\n    <tr>\n      <th rowspan=\"2\" valign=\"top\">Toyota</th>\n      <th>Camry</th>\n      <td>7700.0</td>\n    </tr>\n    <tr>\n      <th>Corolla</th>\n      <td>7700.0</td>\n    </tr>\n    <tr>\n      <th rowspan=\"4\" valign=\"top\">Volkswagen</th>\n      <th>Golf</th>\n      <td>4800.0</td>\n    </tr>\n    <tr>\n      <th>Jetta</th>\n      <td>2800.0</td>\n    </tr>\n    <tr>\n      <th>Passat</th>\n      <td>3500.0</td>\n    </tr>\n    <tr>\n      <th>Touareg</th>\n      <td>5800.0</td>\n    </tr>\n  </tbody>\n</table>\n</div>"
     },
     "execution_count": 8,
     "metadata": {},
     "output_type": "execute_result"
    }
   ],
   "source": [
    "df.groupby(['Make', 'Model'])['Fines'].agg(['median'])"
   ],
   "metadata": {
    "collapsed": false
   }
  },
  {
   "cell_type": "markdown",
   "source": [
    "### Display the counts of fines grouped by the `make` and the `model`"
   ],
   "metadata": {
    "collapsed": false
   }
  },
  {
   "cell_type": "code",
   "execution_count": 9,
   "outputs": [
    {
     "data": {
      "text/plain": "                    count\nMake       Model         \nFord       Focus      575\n           Mondeo       6\nSkoda      Octavia     48\nToyota     Camry       16\n           Corolla     18\nVolkswagen Golf        20\n           Jetta        6\n           Passat      22\n           Touareg      5",
      "text/html": "<div>\n<style scoped>\n    .dataframe tbody tr th:only-of-type {\n        vertical-align: middle;\n    }\n\n    .dataframe tbody tr th {\n        vertical-align: top;\n    }\n\n    .dataframe thead th {\n        text-align: right;\n    }\n</style>\n<table border=\"1\" class=\"dataframe\">\n  <thead>\n    <tr style=\"text-align: right;\">\n      <th></th>\n      <th></th>\n      <th>count</th>\n    </tr>\n    <tr>\n      <th>Make</th>\n      <th>Model</th>\n      <th></th>\n    </tr>\n  </thead>\n  <tbody>\n    <tr>\n      <th rowspan=\"2\" valign=\"top\">Ford</th>\n      <th>Focus</th>\n      <td>575</td>\n    </tr>\n    <tr>\n      <th>Mondeo</th>\n      <td>6</td>\n    </tr>\n    <tr>\n      <th>Skoda</th>\n      <th>Octavia</th>\n      <td>48</td>\n    </tr>\n    <tr>\n      <th rowspan=\"2\" valign=\"top\">Toyota</th>\n      <th>Camry</th>\n      <td>16</td>\n    </tr>\n    <tr>\n      <th>Corolla</th>\n      <td>18</td>\n    </tr>\n    <tr>\n      <th rowspan=\"4\" valign=\"top\">Volkswagen</th>\n      <th>Golf</th>\n      <td>20</td>\n    </tr>\n    <tr>\n      <th>Jetta</th>\n      <td>6</td>\n    </tr>\n    <tr>\n      <th>Passat</th>\n      <td>22</td>\n    </tr>\n    <tr>\n      <th>Touareg</th>\n      <td>5</td>\n    </tr>\n  </tbody>\n</table>\n</div>"
     },
     "execution_count": 9,
     "metadata": {},
     "output_type": "execute_result"
    }
   ],
   "source": [
    "df.groupby(['Make', 'Model'])['Fines'].agg(['count'])"
   ],
   "metadata": {
    "collapsed": false
   }
  },
  {
   "cell_type": "markdown",
   "source": [
    "### Display the minimum and the maximum fines grouped by the `make` and the `model`"
   ],
   "metadata": {
    "collapsed": false
   }
  },
  {
   "cell_type": "code",
   "execution_count": 10,
   "outputs": [
    {
     "data": {
      "text/plain": "                       min            max\nMake       Model                         \nFord       Focus     100.0  180000.000000\n           Mondeo   1100.0   46200.000000\nSkoda      Octavia   300.0  145000.000000\nToyota     Camry     500.0   22400.000000\n           Corolla   900.0   34300.000000\nVolkswagen Golf      200.0  168000.000000\n           Jetta     500.0   46000.000000\n           Passat    100.0   29700.000000\n           Touareg   500.0    8594.586466",
      "text/html": "<div>\n<style scoped>\n    .dataframe tbody tr th:only-of-type {\n        vertical-align: middle;\n    }\n\n    .dataframe tbody tr th {\n        vertical-align: top;\n    }\n\n    .dataframe thead th {\n        text-align: right;\n    }\n</style>\n<table border=\"1\" class=\"dataframe\">\n  <thead>\n    <tr style=\"text-align: right;\">\n      <th></th>\n      <th></th>\n      <th>min</th>\n      <th>max</th>\n    </tr>\n    <tr>\n      <th>Make</th>\n      <th>Model</th>\n      <th></th>\n      <th></th>\n    </tr>\n  </thead>\n  <tbody>\n    <tr>\n      <th rowspan=\"2\" valign=\"top\">Ford</th>\n      <th>Focus</th>\n      <td>100.0</td>\n      <td>180000.000000</td>\n    </tr>\n    <tr>\n      <th>Mondeo</th>\n      <td>1100.0</td>\n      <td>46200.000000</td>\n    </tr>\n    <tr>\n      <th>Skoda</th>\n      <th>Octavia</th>\n      <td>300.0</td>\n      <td>145000.000000</td>\n    </tr>\n    <tr>\n      <th rowspan=\"2\" valign=\"top\">Toyota</th>\n      <th>Camry</th>\n      <td>500.0</td>\n      <td>22400.000000</td>\n    </tr>\n    <tr>\n      <th>Corolla</th>\n      <td>900.0</td>\n      <td>34300.000000</td>\n    </tr>\n    <tr>\n      <th rowspan=\"4\" valign=\"top\">Volkswagen</th>\n      <th>Golf</th>\n      <td>200.0</td>\n      <td>168000.000000</td>\n    </tr>\n    <tr>\n      <th>Jetta</th>\n      <td>500.0</td>\n      <td>46000.000000</td>\n    </tr>\n    <tr>\n      <th>Passat</th>\n      <td>100.0</td>\n      <td>29700.000000</td>\n    </tr>\n    <tr>\n      <th>Touareg</th>\n      <td>500.0</td>\n      <td>8594.586466</td>\n    </tr>\n  </tbody>\n</table>\n</div>"
     },
     "execution_count": 10,
     "metadata": {},
     "output_type": "execute_result"
    }
   ],
   "source": [
    "df.groupby(['Make', 'Model'])['Fines'].agg(['min', 'max'])"
   ],
   "metadata": {
    "collapsed": false
   }
  },
  {
   "cell_type": "markdown",
   "source": [
    "### Display the standard deviation of the fines grouped by the `make` and the `model`"
   ],
   "metadata": {
    "collapsed": false
   }
  },
  {
   "cell_type": "code",
   "execution_count": 11,
   "outputs": [
    {
     "data": {
      "text/plain": "                         std\nMake       Model            \nFord       Focus    15041.27\n           Mondeo   18987.33\nSkoda      Octavia  24339.74\nToyota     Camry     6410.25\n           Corolla   9629.33\nVolkswagen Golf     36950.84\n           Jetta    17743.03\n           Passat    6969.74\n           Touareg   3461.78",
      "text/html": "<div>\n<style scoped>\n    .dataframe tbody tr th:only-of-type {\n        vertical-align: middle;\n    }\n\n    .dataframe tbody tr th {\n        vertical-align: top;\n    }\n\n    .dataframe thead th {\n        text-align: right;\n    }\n</style>\n<table border=\"1\" class=\"dataframe\">\n  <thead>\n    <tr style=\"text-align: right;\">\n      <th></th>\n      <th></th>\n      <th>std</th>\n    </tr>\n    <tr>\n      <th>Make</th>\n      <th>Model</th>\n      <th></th>\n    </tr>\n  </thead>\n  <tbody>\n    <tr>\n      <th rowspan=\"2\" valign=\"top\">Ford</th>\n      <th>Focus</th>\n      <td>15041.27</td>\n    </tr>\n    <tr>\n      <th>Mondeo</th>\n      <td>18987.33</td>\n    </tr>\n    <tr>\n      <th>Skoda</th>\n      <th>Octavia</th>\n      <td>24339.74</td>\n    </tr>\n    <tr>\n      <th rowspan=\"2\" valign=\"top\">Toyota</th>\n      <th>Camry</th>\n      <td>6410.25</td>\n    </tr>\n    <tr>\n      <th>Corolla</th>\n      <td>9629.33</td>\n    </tr>\n    <tr>\n      <th rowspan=\"4\" valign=\"top\">Volkswagen</th>\n      <th>Golf</th>\n      <td>36950.84</td>\n    </tr>\n    <tr>\n      <th>Jetta</th>\n      <td>17743.03</td>\n    </tr>\n    <tr>\n      <th>Passat</th>\n      <td>6969.74</td>\n    </tr>\n    <tr>\n      <th>Touareg</th>\n      <td>3461.78</td>\n    </tr>\n  </tbody>\n</table>\n</div>"
     },
     "execution_count": 11,
     "metadata": {},
     "output_type": "execute_result"
    }
   ],
   "source": [
    "df.groupby(['Make', 'Model'])['Fines'].agg(['std']).round(2)"
   ],
   "metadata": {
    "collapsed": false
   }
  },
  {
   "cell_type": "markdown",
   "source": [
    "## Make the aggregations with the `CarNumber`"
   ],
   "metadata": {
    "collapsed": false
   }
  },
  {
   "cell_type": "markdown",
   "source": [
    "### Display the `CarNumber` grouped by the number of the `Fines` in descending order"
   ],
   "metadata": {
    "collapsed": false
   }
  },
  {
   "cell_type": "code",
   "execution_count": 12,
   "outputs": [
    {
     "data": {
      "text/plain": "Empty DataFrame\nColumns: []\nIndex: [(4, Y7689C197RUS), (4, 92928M178RUS), (4, 7788KT197RUS), (3, O134HE197RUS), (3, 7361C8197RUS), (3, 7830C8197RUS), (3, 8818C877RUS), (3, 92918M178RUS), (3, 9498KX178RUS), (3, 9697MO178RUS), (3, H115YO163RUS), (3, H387TM197RUS), (3, H957HY161RUS), (3, K2797K154RUS), (3, M0299X197RUS), (3, H004MH197RUS), (3, O718MM163RUS), (3, Y352O8197RUS), (3, O77997197RUS), (3, Y973O8197RUS), (3, Y7129Y50RUS), (3, Y356O8197RUS), (3, Y358O8197RUS), (3, X765HY197RUS), (3, X758HY197RUS), (3, X256HE161RUS), (3, X015HY197RUS), (2, 96857X197RUS), (2, 9499KX178RUS), (2, 9683EC178RUS), (2, 9677MO178RUS), (2, 96659X178RUS), (2, 96429X178RUS), (2, 9523M8178RUS), (2, 92788M178RUS), (2, 9469EX178RUS), (2, 9468EX178RUS), (2, 9428EX178RUS), (2, 9409H7178RUS), (2, 934497178RUS), (2, 9182CE154RUS), (2, 9881HX152RUS), (2, 9822H8161RUS), (2, E33577152RUS), (2, 9883HX152RUS), (2, 9942KK197RUS), (2, 9943KK197RUS), (2, C410X938RUS), (2, C476M7161RUS), (2, C477M7161RUS), (2, C592EY154RUS), (2, C798ET50RUS), (2, E0697X152RUS), (2, E160YX77RUS), (2, E28877161RUS), (2, E316EH197RUS), (2, 90159H178RUS), (2, E34877152RUS), (2, E40577152RUS), (2, 9020YC197RUS), (2, 8180XX154RUS), (2, 89587X197RUS), (2, 7365C8197RUS), (2, 7840C8197RUS), (2, 7831C8197RUS), (2, 7784KT197RUS), (2, 7781KT197RUS), (2, 7369C8197RUS), (2, 7368C8197RUS), (2, 7364C8197RUS), (2, 8611T8154RUS), (2, 7248C8197RUS), (2, 7183TT36RUS), (2, 7177TT36RUS), (2, 707987163RUS), (2, 7066C8197RUS), (2, 7065C8197RUS), (2, 7842C8197RUS), (2, 7843C8197RUS), (2, 7844C8197RUS), (2, 8165XX154RUS), (2, 8166XX154RUS), (2, E432XX77RUS), (2, 8201XX154RUS), (2, 8234XX154RUS), (2, 8311XX154RUS), (2, 8316XX154RUS), (2, 8321XX154RUS), (2, 83298C154RUS), (2, 8436XX154RUS), (2, 8437XX154RUS), (2, 84438C154RUS), (2, 8601XX154RUS), (2, 8603T8154RUS), (2, E42277152RUS), (2, 8685HE154RUS), (2, E445TC197RUS), (2, X257HE161RUS), (2, X786CO96RUS), (2, X782CO96RUS), ...]\n\n[531 rows x 0 columns]",
      "text/html": "<div>\n<style scoped>\n    .dataframe tbody tr th:only-of-type {\n        vertical-align: middle;\n    }\n\n    .dataframe tbody tr th {\n        vertical-align: top;\n    }\n\n    .dataframe thead th {\n        text-align: right;\n    }\n</style>\n<table border=\"1\" class=\"dataframe\">\n  <thead>\n    <tr style=\"text-align: right;\">\n      <th></th>\n      <th></th>\n    </tr>\n    <tr>\n      <th>Fines</th>\n      <th>CarNumber</th>\n    </tr>\n  </thead>\n  <tbody>\n    <tr>\n      <th rowspan=\"3\" valign=\"top\">4</th>\n      <th>Y7689C197RUS</th>\n    </tr>\n    <tr>\n      <th>92928M178RUS</th>\n    </tr>\n    <tr>\n      <th>7788KT197RUS</th>\n    </tr>\n    <tr>\n      <th rowspan=\"2\" valign=\"top\">3</th>\n      <th>O134HE197RUS</th>\n    </tr>\n    <tr>\n      <th>7361C8197RUS</th>\n    </tr>\n    <tr>\n      <th>...</th>\n      <th>...</th>\n    </tr>\n    <tr>\n      <th rowspan=\"5\" valign=\"top\">1</th>\n      <th>H907YK197RUS</th>\n    </tr>\n    <tr>\n      <th>H906YK197RUS</th>\n    </tr>\n    <tr>\n      <th>H837YK197RUS</th>\n    </tr>\n    <tr>\n      <th>H618YC38RUS</th>\n    </tr>\n    <tr>\n      <th>T394KX197RUS</th>\n    </tr>\n  </tbody>\n</table>\n<p>531 rows × 0 columns</p>\n</div>"
     },
     "execution_count": 12,
     "metadata": {},
     "output_type": "execute_result"
    }
   ],
   "source": [
    "count_fines = df.reset_index()[['CarNumber', 'Fines']].groupby(['CarNumber']).count()\n",
    "sort_frame = count_fines.groupby(['Fines', 'CarNumber']).count().sort_values('Fines', ascending=False)\n",
    "sort_frame"
   ],
   "metadata": {
    "collapsed": false
   }
  },
  {
   "cell_type": "markdown",
   "source": [
    "### Top-1 `CarNumber`"
   ],
   "metadata": {
    "collapsed": false
   }
  },
  {
   "cell_type": "code",
   "execution_count": 13,
   "outputs": [],
   "source": [
    "sort_frame.reset_index(inplace=True)"
   ],
   "metadata": {
    "collapsed": false
   }
  },
  {
   "cell_type": "code",
   "execution_count": 14,
   "outputs": [
    {
     "data": {
      "text/plain": "              Refund         Fines  Make  Model\nCarNumber                                      \n7788KT197RUS       2  12000.000000  Ford  Focus\n7788KT197RUS       2   8594.586466  Ford  Focus\n7788KT197RUS       1  20000.000000  Ford  Focus\n7788KT197RUS       2   4000.000000  Ford  Focus\n92928M178RUS       1   8594.586466  Ford  Focus\n92928M178RUS       1    600.000000  Ford  Focus\n92928M178RUS       1   1200.000000  Ford  Focus\n92928M178RUS       2   3000.000000  Ford  Focus\nY7689C197RUS       1  27000.000000  Ford  Focus\nY7689C197RUS       2   9000.000000  Ford  Focus\nY7689C197RUS       2  45000.000000  Ford  Focus\nY7689C197RUS       1  36000.000000  Ford  Focus",
      "text/html": "<div>\n<style scoped>\n    .dataframe tbody tr th:only-of-type {\n        vertical-align: middle;\n    }\n\n    .dataframe tbody tr th {\n        vertical-align: top;\n    }\n\n    .dataframe thead th {\n        text-align: right;\n    }\n</style>\n<table border=\"1\" class=\"dataframe\">\n  <thead>\n    <tr style=\"text-align: right;\">\n      <th></th>\n      <th>Refund</th>\n      <th>Fines</th>\n      <th>Make</th>\n      <th>Model</th>\n    </tr>\n    <tr>\n      <th>CarNumber</th>\n      <th></th>\n      <th></th>\n      <th></th>\n      <th></th>\n    </tr>\n  </thead>\n  <tbody>\n    <tr>\n      <th>7788KT197RUS</th>\n      <td>2</td>\n      <td>12000.000000</td>\n      <td>Ford</td>\n      <td>Focus</td>\n    </tr>\n    <tr>\n      <th>7788KT197RUS</th>\n      <td>2</td>\n      <td>8594.586466</td>\n      <td>Ford</td>\n      <td>Focus</td>\n    </tr>\n    <tr>\n      <th>7788KT197RUS</th>\n      <td>1</td>\n      <td>20000.000000</td>\n      <td>Ford</td>\n      <td>Focus</td>\n    </tr>\n    <tr>\n      <th>7788KT197RUS</th>\n      <td>2</td>\n      <td>4000.000000</td>\n      <td>Ford</td>\n      <td>Focus</td>\n    </tr>\n    <tr>\n      <th>92928M178RUS</th>\n      <td>1</td>\n      <td>8594.586466</td>\n      <td>Ford</td>\n      <td>Focus</td>\n    </tr>\n    <tr>\n      <th>92928M178RUS</th>\n      <td>1</td>\n      <td>600.000000</td>\n      <td>Ford</td>\n      <td>Focus</td>\n    </tr>\n    <tr>\n      <th>92928M178RUS</th>\n      <td>1</td>\n      <td>1200.000000</td>\n      <td>Ford</td>\n      <td>Focus</td>\n    </tr>\n    <tr>\n      <th>92928M178RUS</th>\n      <td>2</td>\n      <td>3000.000000</td>\n      <td>Ford</td>\n      <td>Focus</td>\n    </tr>\n    <tr>\n      <th>Y7689C197RUS</th>\n      <td>1</td>\n      <td>27000.000000</td>\n      <td>Ford</td>\n      <td>Focus</td>\n    </tr>\n    <tr>\n      <th>Y7689C197RUS</th>\n      <td>2</td>\n      <td>9000.000000</td>\n      <td>Ford</td>\n      <td>Focus</td>\n    </tr>\n    <tr>\n      <th>Y7689C197RUS</th>\n      <td>2</td>\n      <td>45000.000000</td>\n      <td>Ford</td>\n      <td>Focus</td>\n    </tr>\n    <tr>\n      <th>Y7689C197RUS</th>\n      <td>1</td>\n      <td>36000.000000</td>\n      <td>Ford</td>\n      <td>Focus</td>\n    </tr>\n  </tbody>\n</table>\n</div>"
     },
     "execution_count": 14,
     "metadata": {},
     "output_type": "execute_result"
    }
   ],
   "source": [
    "top_num = sort_frame[sort_frame['Fines'] == sort_frame['Fines'].max()]['CarNumber'].to_list()\n",
    "df[df.index.isin(top_num)].sort_index()"
   ],
   "metadata": {
    "collapsed": false
   }
  },
  {
   "cell_type": "markdown",
   "source": [
    "### Display the `CarNumber` grouped by the sum of the `Fines` in descending order"
   ],
   "metadata": {
    "collapsed": false
   }
  },
  {
   "cell_type": "code",
   "execution_count": 15,
   "outputs": [
    {
     "data": {
      "text/plain": "Empty DataFrame\nColumns: []\nIndex: [(242000.0, X758HY197RUS), (217500.0, 9020YC197RUS), (216000.0, M0279X197RUS), (207200.0, Y352O8197RUS), (192000.0, Y778EE197RUS), (117000.0, Y7689C197RUS), (112994.5864661654, Y973O8197RUS), (96000.0, M0299X197RUS), (94000.0, T477KX197RUS), (83400.0, X765HY197RUS), (78900.0, Y273O8197RUS), (76300.0, Y358O8197RUS), (75900.0, O83797197RUS), (74000.0, O22397197RUS), (73800.0, T6418M116RUS), (69794.5864661654, Y356O8197RUS), (69300.0, H004MH197RUS), (63300.0, O672E8197RUS), (57000.0, M580CH197RUS), (56700.0, 96857X197RUS), (56594.5864661654, Y7129Y50RUS), (54000.0, X767HY197RUS), (51000.0, 7844C8197RUS), (50000.0, X759HY197RUS), (49500.0, 9943KK197RUS), (48000.0, X015HY197RUS), (46200.0, K889HY161RUS), (46000.0, X908XC197RUS), (44594.5864661654, 7788KT197RUS), (43000.0, 7248C8197RUS), (42700.0, E34877152RUS), (40600.0, M0289X197RUS), (39600.0, H427YH197RUS), (36594.5864661654, O77997197RUS), (36000.0, T6419O50RUS), (34300.0, T020OX197RUS), (33000.0, 9182CE154RUS), (32500.0, 9683EC178RUS), (31800.0, H889YK197RUS), (31200.0, Y966O8197RUS), (30900.0, T769OT197RUS), (30900.0, 9881HX152RUS), (30300.0, O143HO197RUS), (29194.586466165398, M0269X197RUS), (28500.0, Y388E877RUS), (28500.0, 9938KK197RUS), (28100.0, H305T8197RUS), (27794.586466165398, K339T8197RUS), (27594.586466165398, O134HE197RUS), (25500.0, T399KX197RUS), (24900.0, O275O7161RUS), (24300.0, O22097197RUS), (24000.0, T6309O50RUS), (23894.586466165398, 7830C8197RUS), (23400.0, Y969O8197RUS), (22800.0, T395KX197RUS), (22400.0, 89557X197RUS), (22300.0, M0309X197RUS), (21800.0, Y353O8197RUS), (21600.0, 7183TT36RUS), (21600.0, Y963O8197RUS), (21600.0, M372CH197RUS), (21000.0, T6488M116RUS), (20800.0, K327T8197RUS), (20500.0, O68897197RUS), (19800.0, T912CT197RUS), (19800.0, 7784KT197RUS), (19500.0, E432XX77RUS), (19500.0, E223YM197RUS), (19094.586466165398, O718MM163RUS), (18800.0, 7164YM36RUS), (18694.586466165398, 7369C8197RUS), (18400.0, 9698MO178RUS), (18300.0, X761HY197RUS), (18100.0, M375CH197RUS), (18000.0, O669E8197RUS), (18000.0, 7842C8197RUS), (18000.0, 7066C8197RUS), (17500.0, 8818C877RUS), (17500.0, H218X836RUS), (17400.0, K338T8197RUS), (17194.586466165398, H232YH197RUS), (17000.0, X023HY197RUS), (17000.0, M577CH197RUS), (16500.0, T6439O50RUS), (16500.0, E53677152RUS), (16400.0, 7843C8197RUS), (15900.0, E42277152RUS), (15800.0, Y7699C197RUS), (15494.5864661654, H419XE197RUS), (15400.0, K899T8197RUS), (15394.5864661654, E773EH197RUS), (15200.0, 92918M178RUS), (15200.0, 7065C8197RUS), (15000.0, X257HE161RUS), (15000.0, C798ET50RUS), (15000.0, T6049O50RUS), (14594.5864661654, Y275O8197RUS), (14300.0, X423MK197RUS), (13800.0, Y7719C197RUS), ...]\n\n[531 rows x 0 columns]",
      "text/html": "<div>\n<style scoped>\n    .dataframe tbody tr th:only-of-type {\n        vertical-align: middle;\n    }\n\n    .dataframe tbody tr th {\n        vertical-align: top;\n    }\n\n    .dataframe thead th {\n        text-align: right;\n    }\n</style>\n<table border=\"1\" class=\"dataframe\">\n  <thead>\n    <tr style=\"text-align: right;\">\n      <th></th>\n      <th></th>\n    </tr>\n    <tr>\n      <th>Fines</th>\n      <th>CarNumber</th>\n    </tr>\n  </thead>\n  <tbody>\n    <tr>\n      <th>242000.0</th>\n      <th>X758HY197RUS</th>\n    </tr>\n    <tr>\n      <th>217500.0</th>\n      <th>9020YC197RUS</th>\n    </tr>\n    <tr>\n      <th>216000.0</th>\n      <th>M0279X197RUS</th>\n    </tr>\n    <tr>\n      <th>207200.0</th>\n      <th>Y352O8197RUS</th>\n    </tr>\n    <tr>\n      <th>192000.0</th>\n      <th>Y778EE197RUS</th>\n    </tr>\n    <tr>\n      <th>...</th>\n      <th>...</th>\n    </tr>\n    <tr>\n      <th rowspan=\"5\" valign=\"top\">100.0</th>\n      <th>K326T8197RUS</th>\n    </tr>\n    <tr>\n      <th>83218C154RUS</th>\n    </tr>\n    <tr>\n      <th>Y166O8161RUS</th>\n    </tr>\n    <tr>\n      <th>Y195O8161RUS</th>\n    </tr>\n    <tr>\n      <th>705787163RUS</th>\n    </tr>\n  </tbody>\n</table>\n<p>531 rows × 0 columns</p>\n</div>"
     },
     "execution_count": 15,
     "metadata": {},
     "output_type": "execute_result"
    }
   ],
   "source": [
    "sum_fines = df.reset_index()[['CarNumber', 'Fines']].groupby(['CarNumber']).sum()\n",
    "sum_frame = sum_fines.groupby(['Fines', 'CarNumber']).sum().sort_values('Fines', ascending=False)\n",
    "sum_frame"
   ],
   "metadata": {
    "collapsed": false
   }
  },
  {
   "cell_type": "markdown",
   "source": [
    "### Top-1 `CarNumber`"
   ],
   "metadata": {
    "collapsed": false
   }
  },
  {
   "cell_type": "code",
   "execution_count": 16,
   "outputs": [
    {
     "data": {
      "text/plain": "              Refund     Fines  Make  Model\nCarNumber                                  \nX758HY197RUS       2   24200.0  Ford  Focus\nX758HY197RUS       2   72600.0  Ford  Focus\nX758HY197RUS       2  145200.0  Ford  Focus",
      "text/html": "<div>\n<style scoped>\n    .dataframe tbody tr th:only-of-type {\n        vertical-align: middle;\n    }\n\n    .dataframe tbody tr th {\n        vertical-align: top;\n    }\n\n    .dataframe thead th {\n        text-align: right;\n    }\n</style>\n<table border=\"1\" class=\"dataframe\">\n  <thead>\n    <tr style=\"text-align: right;\">\n      <th></th>\n      <th>Refund</th>\n      <th>Fines</th>\n      <th>Make</th>\n      <th>Model</th>\n    </tr>\n    <tr>\n      <th>CarNumber</th>\n      <th></th>\n      <th></th>\n      <th></th>\n      <th></th>\n    </tr>\n  </thead>\n  <tbody>\n    <tr>\n      <th>X758HY197RUS</th>\n      <td>2</td>\n      <td>24200.0</td>\n      <td>Ford</td>\n      <td>Focus</td>\n    </tr>\n    <tr>\n      <th>X758HY197RUS</th>\n      <td>2</td>\n      <td>72600.0</td>\n      <td>Ford</td>\n      <td>Focus</td>\n    </tr>\n    <tr>\n      <th>X758HY197RUS</th>\n      <td>2</td>\n      <td>145200.0</td>\n      <td>Ford</td>\n      <td>Focus</td>\n    </tr>\n  </tbody>\n</table>\n</div>"
     },
     "execution_count": 16,
     "metadata": {},
     "output_type": "execute_result"
    }
   ],
   "source": [
    "df[df.index.isin([sum_frame.index[0][1]])]"
   ],
   "metadata": {
    "collapsed": false
   }
  },
  {
   "cell_type": "markdown",
   "source": [
    "###  `CarNumber` that were connected to different `model`"
   ],
   "metadata": {
    "collapsed": false
   }
  },
  {
   "cell_type": "code",
   "execution_count": 17,
   "outputs": [
    {
     "data": {
      "text/plain": "              Refund   Fines        Make    Model\nCarNumber                                        \nE316EH197RUS       1  1300.0  Volkswagen     None\nE316EH197RUS       1  1300.0  Volkswagen  Touareg",
      "text/html": "<div>\n<style scoped>\n    .dataframe tbody tr th:only-of-type {\n        vertical-align: middle;\n    }\n\n    .dataframe tbody tr th {\n        vertical-align: top;\n    }\n\n    .dataframe thead th {\n        text-align: right;\n    }\n</style>\n<table border=\"1\" class=\"dataframe\">\n  <thead>\n    <tr style=\"text-align: right;\">\n      <th></th>\n      <th>Refund</th>\n      <th>Fines</th>\n      <th>Make</th>\n      <th>Model</th>\n    </tr>\n    <tr>\n      <th>CarNumber</th>\n      <th></th>\n      <th></th>\n      <th></th>\n      <th></th>\n    </tr>\n  </thead>\n  <tbody>\n    <tr>\n      <th>E316EH197RUS</th>\n      <td>1</td>\n      <td>1300.0</td>\n      <td>Volkswagen</td>\n      <td>None</td>\n    </tr>\n    <tr>\n      <th>E316EH197RUS</th>\n      <td>1</td>\n      <td>1300.0</td>\n      <td>Volkswagen</td>\n      <td>Touareg</td>\n    </tr>\n  </tbody>\n</table>\n</div>"
     },
     "execution_count": 17,
     "metadata": {},
     "output_type": "execute_result"
    }
   ],
   "source": [
    "diff_frame=df.reset_index().drop_duplicates(['CarNumber','Model'])\n",
    "diff_num = diff_frame[\"CarNumber\"]\n",
    "diff_frame[diff_num.isin(diff_num[diff_num.duplicated()])].set_index(\"CarNumber\")"
   ],
   "metadata": {
    "collapsed": false
   }
  }
 ],
 "metadata": {
  "kernelspec": {
   "display_name": "Python 3",
   "language": "python",
   "name": "python3"
  },
  "language_info": {
   "codemirror_mode": {
    "name": "ipython",
    "version": 2
   },
   "file_extension": ".py",
   "mimetype": "text/x-python",
   "name": "python",
   "nbconvert_exporter": "python",
   "pygments_lexer": "ipython2",
   "version": "2.7.6"
  }
 },
 "nbformat": 4,
 "nbformat_minor": 0
}
