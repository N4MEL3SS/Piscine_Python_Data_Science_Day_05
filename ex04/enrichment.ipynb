{
 "cells": [
  {
   "cell_type": "markdown",
   "source": [
    "# Exercise 04 : Enrichment and transformations"
   ],
   "metadata": {
    "collapsed": false
   }
  },
  {
   "cell_type": "markdown",
   "source": [
    "## Imports"
   ],
   "metadata": {
    "collapsed": false
   }
  },
  {
   "cell_type": "code",
   "execution_count": 1,
   "outputs": [],
   "source": [
    "import pandas as pd\n",
    "import numpy as np\n",
    "import requests"
   ],
   "metadata": {
    "collapsed": false
   }
  },
  {
   "cell_type": "markdown",
   "source": [
    "## Read JSON file"
   ],
   "metadata": {
    "collapsed": false
   }
  },
  {
   "cell_type": "code",
   "execution_count": 2,
   "outputs": [],
   "source": [
    "df = pd.read_json('../data/auto.json', orient='records')"
   ],
   "metadata": {
    "collapsed": false
   }
  },
  {
   "cell_type": "code",
   "execution_count": 3,
   "outputs": [
    {
     "data": {
      "text/plain": "      CarNumber  Refund   Fines    Make  Model\n0  Y163O8161RUS       2 3200.00    Ford  Focus\n1   E432XX77RUS       1 6500.00  Toyota  Camry\n2   7184TT36RUS       1 2100.00    Ford  Focus\n3  X582HE161RUS       2 2000.00    Ford  Focus\n4  92918M178RUS       1 5700.00    Ford  Focus",
      "text/html": "<div>\n<style scoped>\n    .dataframe tbody tr th:only-of-type {\n        vertical-align: middle;\n    }\n\n    .dataframe tbody tr th {\n        vertical-align: top;\n    }\n\n    .dataframe thead th {\n        text-align: right;\n    }\n</style>\n<table border=\"1\" class=\"dataframe\">\n  <thead>\n    <tr style=\"text-align: right;\">\n      <th></th>\n      <th>CarNumber</th>\n      <th>Refund</th>\n      <th>Fines</th>\n      <th>Make</th>\n      <th>Model</th>\n    </tr>\n  </thead>\n  <tbody>\n    <tr>\n      <th>0</th>\n      <td>Y163O8161RUS</td>\n      <td>2</td>\n      <td>3200.00</td>\n      <td>Ford</td>\n      <td>Focus</td>\n    </tr>\n    <tr>\n      <th>1</th>\n      <td>E432XX77RUS</td>\n      <td>1</td>\n      <td>6500.00</td>\n      <td>Toyota</td>\n      <td>Camry</td>\n    </tr>\n    <tr>\n      <th>2</th>\n      <td>7184TT36RUS</td>\n      <td>1</td>\n      <td>2100.00</td>\n      <td>Ford</td>\n      <td>Focus</td>\n    </tr>\n    <tr>\n      <th>3</th>\n      <td>X582HE161RUS</td>\n      <td>2</td>\n      <td>2000.00</td>\n      <td>Ford</td>\n      <td>Focus</td>\n    </tr>\n    <tr>\n      <th>4</th>\n      <td>92918M178RUS</td>\n      <td>1</td>\n      <td>5700.00</td>\n      <td>Ford</td>\n      <td>Focus</td>\n    </tr>\n  </tbody>\n</table>\n</div>"
     },
     "execution_count": 3,
     "metadata": {},
     "output_type": "execute_result"
    }
   ],
   "source": [
    "pd.options.display.float_format = '{:.2f}'.format\n",
    "df.head()"
   ],
   "metadata": {
    "collapsed": false
   }
  },
  {
   "cell_type": "markdown",
   "source": [
    "## Enrich the dataframe"
   ],
   "metadata": {
    "collapsed": false
   }
  },
  {
   "cell_type": "code",
   "execution_count": 4,
   "outputs": [
    {
     "data": {
      "text/plain": "        CarNumber  Refund    Fines  Make  Model\n445  M0299X197RUS       2 19200.00  Ford  Focus\n22   83298C154RUS       2  8594.59  Ford  Focus\n93   H957HY161RUS       1  2000.00  Ford  Focus\n173   T941CC96RUS       1  2000.00  Ford  Focus\n697  H966HY161RUS       1   500.00  Ford  Focus",
      "text/html": "<div>\n<style scoped>\n    .dataframe tbody tr th:only-of-type {\n        vertical-align: middle;\n    }\n\n    .dataframe tbody tr th {\n        vertical-align: top;\n    }\n\n    .dataframe thead th {\n        text-align: right;\n    }\n</style>\n<table border=\"1\" class=\"dataframe\">\n  <thead>\n    <tr style=\"text-align: right;\">\n      <th></th>\n      <th>CarNumber</th>\n      <th>Refund</th>\n      <th>Fines</th>\n      <th>Make</th>\n      <th>Model</th>\n    </tr>\n  </thead>\n  <tbody>\n    <tr>\n      <th>445</th>\n      <td>M0299X197RUS</td>\n      <td>2</td>\n      <td>19200.00</td>\n      <td>Ford</td>\n      <td>Focus</td>\n    </tr>\n    <tr>\n      <th>22</th>\n      <td>83298C154RUS</td>\n      <td>2</td>\n      <td>8594.59</td>\n      <td>Ford</td>\n      <td>Focus</td>\n    </tr>\n    <tr>\n      <th>93</th>\n      <td>H957HY161RUS</td>\n      <td>1</td>\n      <td>2000.00</td>\n      <td>Ford</td>\n      <td>Focus</td>\n    </tr>\n    <tr>\n      <th>173</th>\n      <td>T941CC96RUS</td>\n      <td>1</td>\n      <td>2000.00</td>\n      <td>Ford</td>\n      <td>Focus</td>\n    </tr>\n    <tr>\n      <th>697</th>\n      <td>H966HY161RUS</td>\n      <td>1</td>\n      <td>500.00</td>\n      <td>Ford</td>\n      <td>Focus</td>\n    </tr>\n  </tbody>\n</table>\n</div>"
     },
     "execution_count": 4,
     "metadata": {},
     "output_type": "execute_result"
    }
   ],
   "source": [
    "sample_200 = df.sample(n=200, random_state=21)\n",
    "sample_200.head()"
   ],
   "metadata": {
    "collapsed": false
   }
  },
  {
   "cell_type": "code",
   "execution_count": 5,
   "outputs": [
    {
     "data": {
      "text/plain": "        CarNumber  Refund    Fines  Make  Model\n445  M0299X197RUS       1  6600.00  Ford  Focus\n22   83298C154RUS       2  8594.59  Ford  Focus\n93   H957HY161RUS       1  9200.00  Ford  Focus\n173   T941CC96RUS       2   800.00  Ford  Focus\n697  H966HY161RUS       2 13500.00  Ford  Focus",
      "text/html": "<div>\n<style scoped>\n    .dataframe tbody tr th:only-of-type {\n        vertical-align: middle;\n    }\n\n    .dataframe tbody tr th {\n        vertical-align: top;\n    }\n\n    .dataframe thead th {\n        text-align: right;\n    }\n</style>\n<table border=\"1\" class=\"dataframe\">\n  <thead>\n    <tr style=\"text-align: right;\">\n      <th></th>\n      <th>CarNumber</th>\n      <th>Refund</th>\n      <th>Fines</th>\n      <th>Make</th>\n      <th>Model</th>\n    </tr>\n  </thead>\n  <tbody>\n    <tr>\n      <th>445</th>\n      <td>M0299X197RUS</td>\n      <td>1</td>\n      <td>6600.00</td>\n      <td>Ford</td>\n      <td>Focus</td>\n    </tr>\n    <tr>\n      <th>22</th>\n      <td>83298C154RUS</td>\n      <td>2</td>\n      <td>8594.59</td>\n      <td>Ford</td>\n      <td>Focus</td>\n    </tr>\n    <tr>\n      <th>93</th>\n      <td>H957HY161RUS</td>\n      <td>1</td>\n      <td>9200.00</td>\n      <td>Ford</td>\n      <td>Focus</td>\n    </tr>\n    <tr>\n      <th>173</th>\n      <td>T941CC96RUS</td>\n      <td>2</td>\n      <td>800.00</td>\n      <td>Ford</td>\n      <td>Focus</td>\n    </tr>\n    <tr>\n      <th>697</th>\n      <td>H966HY161RUS</td>\n      <td>2</td>\n      <td>13500.00</td>\n      <td>Ford</td>\n      <td>Focus</td>\n    </tr>\n  </tbody>\n</table>\n</div>"
     },
     "execution_count": 5,
     "metadata": {},
     "output_type": "execute_result"
    }
   ],
   "source": [
    "sample_200['Fines'] = df['Fines'].sample(200).values\n",
    "sample_200['Refund'] = df['Refund'].sample(200).values\n",
    "sample_200.head()"
   ],
   "metadata": {
    "collapsed": false
   }
  },
  {
   "cell_type": "markdown",
   "source": [
    "## Enrich concat_rows"
   ],
   "metadata": {
    "collapsed": false
   }
  },
  {
   "cell_type": "code",
   "execution_count": 6,
   "outputs": [
    {
     "data": {
      "text/plain": "        CarNumber  Refund    Fines        Make   Model\n0    Y163O8161RUS       2  3200.00        Ford   Focus\n1     E432XX77RUS       1  6500.00      Toyota   Camry\n2     7184TT36RUS       1  2100.00        Ford   Focus\n3    X582HE161RUS       2  2000.00        Ford   Focus\n4    92918M178RUS       1  5700.00        Ford   Focus\n..            ...     ...      ...         ...     ...\n920  8182XX154RUS       1 12300.00        Ford   Focus\n921   X796TH96RUS       1  3000.00        Ford   Focus\n922  T011MY163RUS       2   400.00        Ford   Focus\n923   T341CC96RUS       2 11400.00  Volkswagen  Passat\n924   T119CT96RUS       2 17500.00        Ford   Focus\n\n[925 rows x 5 columns]",
      "text/html": "<div>\n<style scoped>\n    .dataframe tbody tr th:only-of-type {\n        vertical-align: middle;\n    }\n\n    .dataframe tbody tr th {\n        vertical-align: top;\n    }\n\n    .dataframe thead th {\n        text-align: right;\n    }\n</style>\n<table border=\"1\" class=\"dataframe\">\n  <thead>\n    <tr style=\"text-align: right;\">\n      <th></th>\n      <th>CarNumber</th>\n      <th>Refund</th>\n      <th>Fines</th>\n      <th>Make</th>\n      <th>Model</th>\n    </tr>\n  </thead>\n  <tbody>\n    <tr>\n      <th>0</th>\n      <td>Y163O8161RUS</td>\n      <td>2</td>\n      <td>3200.00</td>\n      <td>Ford</td>\n      <td>Focus</td>\n    </tr>\n    <tr>\n      <th>1</th>\n      <td>E432XX77RUS</td>\n      <td>1</td>\n      <td>6500.00</td>\n      <td>Toyota</td>\n      <td>Camry</td>\n    </tr>\n    <tr>\n      <th>2</th>\n      <td>7184TT36RUS</td>\n      <td>1</td>\n      <td>2100.00</td>\n      <td>Ford</td>\n      <td>Focus</td>\n    </tr>\n    <tr>\n      <th>3</th>\n      <td>X582HE161RUS</td>\n      <td>2</td>\n      <td>2000.00</td>\n      <td>Ford</td>\n      <td>Focus</td>\n    </tr>\n    <tr>\n      <th>4</th>\n      <td>92918M178RUS</td>\n      <td>1</td>\n      <td>5700.00</td>\n      <td>Ford</td>\n      <td>Focus</td>\n    </tr>\n    <tr>\n      <th>...</th>\n      <td>...</td>\n      <td>...</td>\n      <td>...</td>\n      <td>...</td>\n      <td>...</td>\n    </tr>\n    <tr>\n      <th>920</th>\n      <td>8182XX154RUS</td>\n      <td>1</td>\n      <td>12300.00</td>\n      <td>Ford</td>\n      <td>Focus</td>\n    </tr>\n    <tr>\n      <th>921</th>\n      <td>X796TH96RUS</td>\n      <td>1</td>\n      <td>3000.00</td>\n      <td>Ford</td>\n      <td>Focus</td>\n    </tr>\n    <tr>\n      <th>922</th>\n      <td>T011MY163RUS</td>\n      <td>2</td>\n      <td>400.00</td>\n      <td>Ford</td>\n      <td>Focus</td>\n    </tr>\n    <tr>\n      <th>923</th>\n      <td>T341CC96RUS</td>\n      <td>2</td>\n      <td>11400.00</td>\n      <td>Volkswagen</td>\n      <td>Passat</td>\n    </tr>\n    <tr>\n      <th>924</th>\n      <td>T119CT96RUS</td>\n      <td>2</td>\n      <td>17500.00</td>\n      <td>Ford</td>\n      <td>Focus</td>\n    </tr>\n  </tbody>\n</table>\n<p>925 rows × 5 columns</p>\n</div>"
     },
     "execution_count": 6,
     "metadata": {},
     "output_type": "execute_result"
    }
   ],
   "source": [
    "concat_rows = pd.concat([df, sample_200])\n",
    "concat_rows.reset_index(inplace=True, drop=True)\n",
    "concat_rows"
   ],
   "metadata": {
    "collapsed": false
   }
  },
  {
   "cell_type": "code",
   "execution_count": 7,
   "outputs": [
    {
     "data": {
      "text/plain": "      CarNumber  Refund   Fines    Make  Model  Year\n0  Y163O8161RUS       2 3200.00    Ford  Focus  1989\n1   E432XX77RUS       1 6500.00  Toyota  Camry  1995\n2   7184TT36RUS       1 2100.00    Ford  Focus  1984\n3  X582HE161RUS       2 2000.00    Ford  Focus  2015\n4  92918M178RUS       1 5700.00    Ford  Focus  2014",
      "text/html": "<div>\n<style scoped>\n    .dataframe tbody tr th:only-of-type {\n        vertical-align: middle;\n    }\n\n    .dataframe tbody tr th {\n        vertical-align: top;\n    }\n\n    .dataframe thead th {\n        text-align: right;\n    }\n</style>\n<table border=\"1\" class=\"dataframe\">\n  <thead>\n    <tr style=\"text-align: right;\">\n      <th></th>\n      <th>CarNumber</th>\n      <th>Refund</th>\n      <th>Fines</th>\n      <th>Make</th>\n      <th>Model</th>\n      <th>Year</th>\n    </tr>\n  </thead>\n  <tbody>\n    <tr>\n      <th>0</th>\n      <td>Y163O8161RUS</td>\n      <td>2</td>\n      <td>3200.00</td>\n      <td>Ford</td>\n      <td>Focus</td>\n      <td>1989</td>\n    </tr>\n    <tr>\n      <th>1</th>\n      <td>E432XX77RUS</td>\n      <td>1</td>\n      <td>6500.00</td>\n      <td>Toyota</td>\n      <td>Camry</td>\n      <td>1995</td>\n    </tr>\n    <tr>\n      <th>2</th>\n      <td>7184TT36RUS</td>\n      <td>1</td>\n      <td>2100.00</td>\n      <td>Ford</td>\n      <td>Focus</td>\n      <td>1984</td>\n    </tr>\n    <tr>\n      <th>3</th>\n      <td>X582HE161RUS</td>\n      <td>2</td>\n      <td>2000.00</td>\n      <td>Ford</td>\n      <td>Focus</td>\n      <td>2015</td>\n    </tr>\n    <tr>\n      <th>4</th>\n      <td>92918M178RUS</td>\n      <td>1</td>\n      <td>5700.00</td>\n      <td>Ford</td>\n      <td>Focus</td>\n      <td>2014</td>\n    </tr>\n  </tbody>\n</table>\n</div>"
     },
     "execution_count": 7,
     "metadata": {},
     "output_type": "execute_result"
    }
   ],
   "source": [
    "np.random.seed(21)\n",
    "years = pd.Series(np.random.randint(1980, 2020, (len(concat_rows))), name=\"Year\")\n",
    "fines = pd.concat([concat_rows, years], axis=1)\n",
    "fines.head()"
   ],
   "metadata": {
    "collapsed": false
   }
  },
  {
   "cell_type": "markdown",
   "source": [
    "## Enrich with another dataframe"
   ],
   "metadata": {
    "collapsed": false
   }
  },
  {
   "cell_type": "code",
   "execution_count": 8,
   "outputs": [
    {
     "data": {
      "text/plain": "         NAME    COUNT RANK\n1       ADAMS   427865   42\n2       ALLEN   482607   33\n3     ALVAREZ   233983   92\n4    ANDERSON   784404   15\n5      BAILEY   277845   72\n..        ...      ...  ...\n96   WILLIAMS  1625252    3\n97     WILSON   801882   14\n98       WOOD   250715   84\n99     WRIGHT   458980   35\n100     YOUNG   484447   32\n\n[100 rows x 3 columns]",
      "text/html": "<div>\n<style scoped>\n    .dataframe tbody tr th:only-of-type {\n        vertical-align: middle;\n    }\n\n    .dataframe tbody tr th {\n        vertical-align: top;\n    }\n\n    .dataframe thead th {\n        text-align: right;\n    }\n</style>\n<table border=\"1\" class=\"dataframe\">\n  <thead>\n    <tr style=\"text-align: right;\">\n      <th></th>\n      <th>NAME</th>\n      <th>COUNT</th>\n      <th>RANK</th>\n    </tr>\n  </thead>\n  <tbody>\n    <tr>\n      <th>1</th>\n      <td>ADAMS</td>\n      <td>427865</td>\n      <td>42</td>\n    </tr>\n    <tr>\n      <th>2</th>\n      <td>ALLEN</td>\n      <td>482607</td>\n      <td>33</td>\n    </tr>\n    <tr>\n      <th>3</th>\n      <td>ALVAREZ</td>\n      <td>233983</td>\n      <td>92</td>\n    </tr>\n    <tr>\n      <th>4</th>\n      <td>ANDERSON</td>\n      <td>784404</td>\n      <td>15</td>\n    </tr>\n    <tr>\n      <th>5</th>\n      <td>BAILEY</td>\n      <td>277845</td>\n      <td>72</td>\n    </tr>\n    <tr>\n      <th>...</th>\n      <td>...</td>\n      <td>...</td>\n      <td>...</td>\n    </tr>\n    <tr>\n      <th>96</th>\n      <td>WILLIAMS</td>\n      <td>1625252</td>\n      <td>3</td>\n    </tr>\n    <tr>\n      <th>97</th>\n      <td>WILSON</td>\n      <td>801882</td>\n      <td>14</td>\n    </tr>\n    <tr>\n      <th>98</th>\n      <td>WOOD</td>\n      <td>250715</td>\n      <td>84</td>\n    </tr>\n    <tr>\n      <th>99</th>\n      <td>WRIGHT</td>\n      <td>458980</td>\n      <td>35</td>\n    </tr>\n    <tr>\n      <th>100</th>\n      <td>YOUNG</td>\n      <td>484447</td>\n      <td>32</td>\n    </tr>\n  </tbody>\n</table>\n<p>100 rows × 3 columns</p>\n</div>"
     },
     "execution_count": 8,
     "metadata": {},
     "output_type": "execute_result"
    }
   ],
   "source": [
    "surnames = pd.read_json('../data/surname.json', orient='values')\n",
    "surnames.columns = surnames.iloc[0].values\n",
    "surnames.drop(surnames.index[0], axis='index', inplace=True)\n",
    "surnames"
   ],
   "metadata": {
    "collapsed": false
   }
  },
  {
   "cell_type": "code",
   "execution_count": 9,
   "outputs": [
    {
     "data": {
      "text/plain": "0      RICHARDSON\n1            ROSS\n2          MORGAN\n3          BAILEY\n4           LOPEZ\n          ...    \n526      CAMPBELL\n527          HALL\n528         BAKER\n529          DIAZ\n530        MORGAN\nName: NAME, Length: 531, dtype: object"
     },
     "execution_count": 9,
     "metadata": {},
     "output_type": "execute_result"
    }
   ],
   "source": [
    "owner_name = surnames['NAME'].sample(n=531, random_state=21, replace=True, ignore_index=True)\n",
    "owner_name"
   ],
   "metadata": {
    "collapsed": false
   }
  },
  {
   "cell_type": "code",
   "execution_count": 10,
   "outputs": [
    {
     "data": {
      "text/plain": "0      Y163O8161RUS\n1       E432XX77RUS\n2       7184TT36RUS\n3      X582HE161RUS\n4      92918M178RUS\n           ...     \n526    O136HO197RUS\n527    O22097197RUS\n528    M0309X197RUS\n529    O673E8197RUS\n530    8610T8154RUS\nName: CarNumber, Length: 531, dtype: object"
     },
     "execution_count": 10,
     "metadata": {},
     "output_type": "execute_result"
    }
   ],
   "source": [
    "owner_car = concat_rows.drop_duplicates('CarNumber')['CarNumber']\n",
    "owner_car = owner_car.reset_index(drop=True)\n",
    "owner_car"
   ],
   "metadata": {
    "collapsed": false
   }
  },
  {
   "cell_type": "markdown",
   "source": [
    "## Create `owners` dataframe"
   ],
   "metadata": {
    "collapsed": false
   }
  },
  {
   "cell_type": "code",
   "execution_count": 11,
   "outputs": [
    {
     "data": {
      "text/plain": "        CarNumber     Surname\n0    Y163O8161RUS  RICHARDSON\n1     E432XX77RUS        ROSS\n2     7184TT36RUS      MORGAN\n3    X582HE161RUS      BAILEY\n4    92918M178RUS       LOPEZ\n..            ...         ...\n526  O136HO197RUS    CAMPBELL\n527  O22097197RUS        HALL\n528  M0309X197RUS       BAKER\n529  O673E8197RUS        DIAZ\n530  8610T8154RUS      MORGAN\n\n[531 rows x 2 columns]",
      "text/html": "<div>\n<style scoped>\n    .dataframe tbody tr th:only-of-type {\n        vertical-align: middle;\n    }\n\n    .dataframe tbody tr th {\n        vertical-align: top;\n    }\n\n    .dataframe thead th {\n        text-align: right;\n    }\n</style>\n<table border=\"1\" class=\"dataframe\">\n  <thead>\n    <tr style=\"text-align: right;\">\n      <th></th>\n      <th>CarNumber</th>\n      <th>Surname</th>\n    </tr>\n  </thead>\n  <tbody>\n    <tr>\n      <th>0</th>\n      <td>Y163O8161RUS</td>\n      <td>RICHARDSON</td>\n    </tr>\n    <tr>\n      <th>1</th>\n      <td>E432XX77RUS</td>\n      <td>ROSS</td>\n    </tr>\n    <tr>\n      <th>2</th>\n      <td>7184TT36RUS</td>\n      <td>MORGAN</td>\n    </tr>\n    <tr>\n      <th>3</th>\n      <td>X582HE161RUS</td>\n      <td>BAILEY</td>\n    </tr>\n    <tr>\n      <th>4</th>\n      <td>92918M178RUS</td>\n      <td>LOPEZ</td>\n    </tr>\n    <tr>\n      <th>...</th>\n      <td>...</td>\n      <td>...</td>\n    </tr>\n    <tr>\n      <th>526</th>\n      <td>O136HO197RUS</td>\n      <td>CAMPBELL</td>\n    </tr>\n    <tr>\n      <th>527</th>\n      <td>O22097197RUS</td>\n      <td>HALL</td>\n    </tr>\n    <tr>\n      <th>528</th>\n      <td>M0309X197RUS</td>\n      <td>BAKER</td>\n    </tr>\n    <tr>\n      <th>529</th>\n      <td>O673E8197RUS</td>\n      <td>DIAZ</td>\n    </tr>\n    <tr>\n      <th>530</th>\n      <td>8610T8154RUS</td>\n      <td>MORGAN</td>\n    </tr>\n  </tbody>\n</table>\n<p>531 rows × 2 columns</p>\n</div>"
     },
     "execution_count": 11,
     "metadata": {},
     "output_type": "execute_result"
    }
   ],
   "source": [
    "owners = pd.DataFrame(data=owner_car)\n",
    "owners['Surname'] = owner_name\n",
    "owners"
   ],
   "metadata": {
    "collapsed": false
   }
  },
  {
   "cell_type": "code",
   "execution_count": 12,
   "outputs": [
    {
     "data": {
      "text/plain": "        CarNumber Refund   Fines        Make  Model  Year\n0  SCHOOL21111RUS      2 2400.00        Ford  Focus  2000\n1  SCHOOL21222RUS      1 2000.00  Volkswagen  Focus  1996\n2  SCHOOL21333RUS      2 1100.00        Ford  Focus  2013\n3  SCHOOL21444RUS      1 1600.00        Ford  Focus  1992\n4  SCHOOL21555RUS      2 1000.00        Ford  Focus  2005",
      "text/html": "<div>\n<style scoped>\n    .dataframe tbody tr th:only-of-type {\n        vertical-align: middle;\n    }\n\n    .dataframe tbody tr th {\n        vertical-align: top;\n    }\n\n    .dataframe thead th {\n        text-align: right;\n    }\n</style>\n<table border=\"1\" class=\"dataframe\">\n  <thead>\n    <tr style=\"text-align: right;\">\n      <th></th>\n      <th>CarNumber</th>\n      <th>Refund</th>\n      <th>Fines</th>\n      <th>Make</th>\n      <th>Model</th>\n      <th>Year</th>\n    </tr>\n  </thead>\n  <tbody>\n    <tr>\n      <th>0</th>\n      <td>SCHOOL21111RUS</td>\n      <td>2</td>\n      <td>2400.00</td>\n      <td>Ford</td>\n      <td>Focus</td>\n      <td>2000</td>\n    </tr>\n    <tr>\n      <th>1</th>\n      <td>SCHOOL21222RUS</td>\n      <td>1</td>\n      <td>2000.00</td>\n      <td>Volkswagen</td>\n      <td>Focus</td>\n      <td>1996</td>\n    </tr>\n    <tr>\n      <th>2</th>\n      <td>SCHOOL21333RUS</td>\n      <td>2</td>\n      <td>1100.00</td>\n      <td>Ford</td>\n      <td>Focus</td>\n      <td>2013</td>\n    </tr>\n    <tr>\n      <th>3</th>\n      <td>SCHOOL21444RUS</td>\n      <td>1</td>\n      <td>1600.00</td>\n      <td>Ford</td>\n      <td>Focus</td>\n      <td>1992</td>\n    </tr>\n    <tr>\n      <th>4</th>\n      <td>SCHOOL21555RUS</td>\n      <td>2</td>\n      <td>1000.00</td>\n      <td>Ford</td>\n      <td>Focus</td>\n      <td>2005</td>\n    </tr>\n  </tbody>\n</table>\n</div>"
     },
     "execution_count": 12,
     "metadata": {},
     "output_type": "execute_result"
    }
   ],
   "source": [
    "data1 = pd.Series(['SCHOOL21111RUS', 'SCHOOL21222RUS', 'SCHOOL21333RUS','SCHOOL21444RUS', 'SCHOOL21555RUS'], name='CarNumber')\n",
    "data2 = pd.Series([np.random.choice(fines['Refund']) for i in range(5)], name= 'Refund')\n",
    "data3 = pd.Series([np.random.choice(fines['Fines']) for i in range(5)], name= 'Fines')\n",
    "data4 = pd.Series([np.random.choice(fines['Make']) for i in range(5)], name= 'Make')\n",
    "data5 = pd.Series([np.random.choice(fines['Model']) for i in range(5)], name= 'Model')\n",
    "data6 = pd.Series([np.random.choice(fines['Year']) for i in range(5)], name= 'Year')\n",
    "\n",
    "df3 = pd.DataFrame([data1, data2, data3, data4, data5, data6])\n",
    "fines = pd.concat([fines, df3.T])\n",
    "fines.tail()"
   ],
   "metadata": {
    "collapsed": false
   }
  },
  {
   "cell_type": "code",
   "execution_count": 14,
   "outputs": [
    {
     "data": {
      "text/plain": "<bound method NDFrame.tail of           CarNumber     Surname\n0      Y163O8161RUS  RICHARDSON\n1       E432XX77RUS        ROSS\n2       7184TT36RUS      MORGAN\n3      X582HE161RUS      BAILEY\n4      92918M178RUS       LOPEZ\n..              ...         ...\n509    O50197197RUS      WRIGHT\n510    7608EE777RUS        HILL\n0    SCHOOL21666RUS      WATSON\n1    SCHOOL21777RUS       JONES\n2    SCHOOL21888RUS     SANCHEZ\n\n[514 rows x 2 columns]>"
     },
     "execution_count": 14,
     "metadata": {},
     "output_type": "execute_result"
    }
   ],
   "source": [
    "owners_test = owners.drop(owners.tail(20).index)\n",
    "data1 = pd.Series(['SCHOOL21666RUS', 'SCHOOL21777RUS', 'SCHOOL21888RUS'], name='CarNumber')\n",
    "data2 = pd.Series([np.random.choice(owners['Surname']) for i in range(3)], name= 'Surname')\n",
    "add3 = pd.DataFrame([data1, data2])\n",
    "owners_test = pd.concat([owners_test, add3.T])\n",
    "owners_test.tail"
   ],
   "metadata": {
    "collapsed": false
   }
  },
  {
   "cell_type": "code",
   "execution_count": 15,
   "outputs": [
    {
     "data": {
      "text/plain": "        CarNumber Refund    Fines    Make    Model  Year     Surname\n0    Y163O8161RUS      2  3200.00    Ford    Focus  1989  RICHARDSON\n1    Y163O8161RUS      2  1600.00    Ford    Focus  1980  RICHARDSON\n2     E432XX77RUS      1  6500.00  Toyota    Camry  1995        ROSS\n3     E432XX77RUS      2 13000.00  Toyota    Camry  2018        ROSS\n4     7184TT36RUS      1  2100.00    Ford    Focus  1984      MORGAN\n..            ...    ...      ...     ...      ...   ...         ...\n894  E41977152RUS      2  2400.00    Ford    Focus  1989       BAKER\n895  9464EX178RUS      2  2100.00    Ford    Focus  1988      MARTIN\n896  O50197197RUS      2  7800.00    Ford    Focus  1992      WRIGHT\n897  7608EE777RUS      1  4000.00   Skoda  Octavia  2000        HILL\n898  7608EE777RUS      1  7900.00   Skoda  Octavia  1991        HILL\n\n[899 rows x 7 columns]",
      "text/html": "<div>\n<style scoped>\n    .dataframe tbody tr th:only-of-type {\n        vertical-align: middle;\n    }\n\n    .dataframe tbody tr th {\n        vertical-align: top;\n    }\n\n    .dataframe thead th {\n        text-align: right;\n    }\n</style>\n<table border=\"1\" class=\"dataframe\">\n  <thead>\n    <tr style=\"text-align: right;\">\n      <th></th>\n      <th>CarNumber</th>\n      <th>Refund</th>\n      <th>Fines</th>\n      <th>Make</th>\n      <th>Model</th>\n      <th>Year</th>\n      <th>Surname</th>\n    </tr>\n  </thead>\n  <tbody>\n    <tr>\n      <th>0</th>\n      <td>Y163O8161RUS</td>\n      <td>2</td>\n      <td>3200.00</td>\n      <td>Ford</td>\n      <td>Focus</td>\n      <td>1989</td>\n      <td>RICHARDSON</td>\n    </tr>\n    <tr>\n      <th>1</th>\n      <td>Y163O8161RUS</td>\n      <td>2</td>\n      <td>1600.00</td>\n      <td>Ford</td>\n      <td>Focus</td>\n      <td>1980</td>\n      <td>RICHARDSON</td>\n    </tr>\n    <tr>\n      <th>2</th>\n      <td>E432XX77RUS</td>\n      <td>1</td>\n      <td>6500.00</td>\n      <td>Toyota</td>\n      <td>Camry</td>\n      <td>1995</td>\n      <td>ROSS</td>\n    </tr>\n    <tr>\n      <th>3</th>\n      <td>E432XX77RUS</td>\n      <td>2</td>\n      <td>13000.00</td>\n      <td>Toyota</td>\n      <td>Camry</td>\n      <td>2018</td>\n      <td>ROSS</td>\n    </tr>\n    <tr>\n      <th>4</th>\n      <td>7184TT36RUS</td>\n      <td>1</td>\n      <td>2100.00</td>\n      <td>Ford</td>\n      <td>Focus</td>\n      <td>1984</td>\n      <td>MORGAN</td>\n    </tr>\n    <tr>\n      <th>...</th>\n      <td>...</td>\n      <td>...</td>\n      <td>...</td>\n      <td>...</td>\n      <td>...</td>\n      <td>...</td>\n      <td>...</td>\n    </tr>\n    <tr>\n      <th>894</th>\n      <td>E41977152RUS</td>\n      <td>2</td>\n      <td>2400.00</td>\n      <td>Ford</td>\n      <td>Focus</td>\n      <td>1989</td>\n      <td>BAKER</td>\n    </tr>\n    <tr>\n      <th>895</th>\n      <td>9464EX178RUS</td>\n      <td>2</td>\n      <td>2100.00</td>\n      <td>Ford</td>\n      <td>Focus</td>\n      <td>1988</td>\n      <td>MARTIN</td>\n    </tr>\n    <tr>\n      <th>896</th>\n      <td>O50197197RUS</td>\n      <td>2</td>\n      <td>7800.00</td>\n      <td>Ford</td>\n      <td>Focus</td>\n      <td>1992</td>\n      <td>WRIGHT</td>\n    </tr>\n    <tr>\n      <th>897</th>\n      <td>7608EE777RUS</td>\n      <td>1</td>\n      <td>4000.00</td>\n      <td>Skoda</td>\n      <td>Octavia</td>\n      <td>2000</td>\n      <td>HILL</td>\n    </tr>\n    <tr>\n      <th>898</th>\n      <td>7608EE777RUS</td>\n      <td>1</td>\n      <td>7900.00</td>\n      <td>Skoda</td>\n      <td>Octavia</td>\n      <td>1991</td>\n      <td>HILL</td>\n    </tr>\n  </tbody>\n</table>\n<p>899 rows × 7 columns</p>\n</div>"
     },
     "execution_count": 15,
     "metadata": {},
     "output_type": "execute_result"
    }
   ],
   "source": [
    "test1 = pd.merge(left=fines, right=owners_test, on='CarNumber', how='inner')\n",
    "test1"
   ],
   "metadata": {
    "collapsed": false
   }
  },
  {
   "cell_type": "code",
   "execution_count": 16,
   "outputs": [
    {
     "data": {
      "text/plain": "          CarNumber Refund    Fines    Make  Model  Year     Surname\n0      Y163O8161RUS      2  3200.00    Ford  Focus  1989  RICHARDSON\n1      Y163O8161RUS      2  1600.00    Ford  Focus  1980  RICHARDSON\n2       E432XX77RUS      1  6500.00  Toyota  Camry  1995        ROSS\n3       E432XX77RUS      2 13000.00  Toyota  Camry  2018        ROSS\n4       7184TT36RUS      1  2100.00    Ford  Focus  1984      MORGAN\n..              ...    ...      ...     ...    ...   ...         ...\n928  SCHOOL21444RUS      1  1600.00    Ford  Focus  1992         NaN\n929  SCHOOL21555RUS      2  1000.00    Ford  Focus  2005         NaN\n930  SCHOOL21666RUS    NaN      NaN     NaN    NaN   NaN      WATSON\n931  SCHOOL21777RUS    NaN      NaN     NaN    NaN   NaN       JONES\n932  SCHOOL21888RUS    NaN      NaN     NaN    NaN   NaN     SANCHEZ\n\n[933 rows x 7 columns]",
      "text/html": "<div>\n<style scoped>\n    .dataframe tbody tr th:only-of-type {\n        vertical-align: middle;\n    }\n\n    .dataframe tbody tr th {\n        vertical-align: top;\n    }\n\n    .dataframe thead th {\n        text-align: right;\n    }\n</style>\n<table border=\"1\" class=\"dataframe\">\n  <thead>\n    <tr style=\"text-align: right;\">\n      <th></th>\n      <th>CarNumber</th>\n      <th>Refund</th>\n      <th>Fines</th>\n      <th>Make</th>\n      <th>Model</th>\n      <th>Year</th>\n      <th>Surname</th>\n    </tr>\n  </thead>\n  <tbody>\n    <tr>\n      <th>0</th>\n      <td>Y163O8161RUS</td>\n      <td>2</td>\n      <td>3200.00</td>\n      <td>Ford</td>\n      <td>Focus</td>\n      <td>1989</td>\n      <td>RICHARDSON</td>\n    </tr>\n    <tr>\n      <th>1</th>\n      <td>Y163O8161RUS</td>\n      <td>2</td>\n      <td>1600.00</td>\n      <td>Ford</td>\n      <td>Focus</td>\n      <td>1980</td>\n      <td>RICHARDSON</td>\n    </tr>\n    <tr>\n      <th>2</th>\n      <td>E432XX77RUS</td>\n      <td>1</td>\n      <td>6500.00</td>\n      <td>Toyota</td>\n      <td>Camry</td>\n      <td>1995</td>\n      <td>ROSS</td>\n    </tr>\n    <tr>\n      <th>3</th>\n      <td>E432XX77RUS</td>\n      <td>2</td>\n      <td>13000.00</td>\n      <td>Toyota</td>\n      <td>Camry</td>\n      <td>2018</td>\n      <td>ROSS</td>\n    </tr>\n    <tr>\n      <th>4</th>\n      <td>7184TT36RUS</td>\n      <td>1</td>\n      <td>2100.00</td>\n      <td>Ford</td>\n      <td>Focus</td>\n      <td>1984</td>\n      <td>MORGAN</td>\n    </tr>\n    <tr>\n      <th>...</th>\n      <td>...</td>\n      <td>...</td>\n      <td>...</td>\n      <td>...</td>\n      <td>...</td>\n      <td>...</td>\n      <td>...</td>\n    </tr>\n    <tr>\n      <th>928</th>\n      <td>SCHOOL21444RUS</td>\n      <td>1</td>\n      <td>1600.00</td>\n      <td>Ford</td>\n      <td>Focus</td>\n      <td>1992</td>\n      <td>NaN</td>\n    </tr>\n    <tr>\n      <th>929</th>\n      <td>SCHOOL21555RUS</td>\n      <td>2</td>\n      <td>1000.00</td>\n      <td>Ford</td>\n      <td>Focus</td>\n      <td>2005</td>\n      <td>NaN</td>\n    </tr>\n    <tr>\n      <th>930</th>\n      <td>SCHOOL21666RUS</td>\n      <td>NaN</td>\n      <td>NaN</td>\n      <td>NaN</td>\n      <td>NaN</td>\n      <td>NaN</td>\n      <td>WATSON</td>\n    </tr>\n    <tr>\n      <th>931</th>\n      <td>SCHOOL21777RUS</td>\n      <td>NaN</td>\n      <td>NaN</td>\n      <td>NaN</td>\n      <td>NaN</td>\n      <td>NaN</td>\n      <td>JONES</td>\n    </tr>\n    <tr>\n      <th>932</th>\n      <td>SCHOOL21888RUS</td>\n      <td>NaN</td>\n      <td>NaN</td>\n      <td>NaN</td>\n      <td>NaN</td>\n      <td>NaN</td>\n      <td>SANCHEZ</td>\n    </tr>\n  </tbody>\n</table>\n<p>933 rows × 7 columns</p>\n</div>"
     },
     "execution_count": 16,
     "metadata": {},
     "output_type": "execute_result"
    }
   ],
   "source": [
    "test2 = pd.merge(fines, owners_test, on='CarNumber', how='outer')\n",
    "test2"
   ],
   "metadata": {
    "collapsed": false
   }
  },
  {
   "cell_type": "code",
   "execution_count": 17,
   "outputs": [
    {
     "data": {
      "text/plain": "          CarNumber Refund   Fines        Make  Model  Year     Surname\n0      Y163O8161RUS      2 3200.00        Ford  Focus  1989  RICHARDSON\n1       E432XX77RUS      1 6500.00      Toyota  Camry  1995        ROSS\n2       7184TT36RUS      1 2100.00        Ford  Focus  1984      MORGAN\n3      X582HE161RUS      2 2000.00        Ford  Focus  2015      BAILEY\n4      92918M178RUS      1 5700.00        Ford  Focus  2014       LOPEZ\n..              ...    ...     ...         ...    ...   ...         ...\n925  SCHOOL21111RUS      2 2400.00        Ford  Focus  2000         NaN\n926  SCHOOL21222RUS      1 2000.00  Volkswagen  Focus  1996         NaN\n927  SCHOOL21333RUS      2 1100.00        Ford  Focus  2013         NaN\n928  SCHOOL21444RUS      1 1600.00        Ford  Focus  1992         NaN\n929  SCHOOL21555RUS      2 1000.00        Ford  Focus  2005         NaN\n\n[930 rows x 7 columns]",
      "text/html": "<div>\n<style scoped>\n    .dataframe tbody tr th:only-of-type {\n        vertical-align: middle;\n    }\n\n    .dataframe tbody tr th {\n        vertical-align: top;\n    }\n\n    .dataframe thead th {\n        text-align: right;\n    }\n</style>\n<table border=\"1\" class=\"dataframe\">\n  <thead>\n    <tr style=\"text-align: right;\">\n      <th></th>\n      <th>CarNumber</th>\n      <th>Refund</th>\n      <th>Fines</th>\n      <th>Make</th>\n      <th>Model</th>\n      <th>Year</th>\n      <th>Surname</th>\n    </tr>\n  </thead>\n  <tbody>\n    <tr>\n      <th>0</th>\n      <td>Y163O8161RUS</td>\n      <td>2</td>\n      <td>3200.00</td>\n      <td>Ford</td>\n      <td>Focus</td>\n      <td>1989</td>\n      <td>RICHARDSON</td>\n    </tr>\n    <tr>\n      <th>1</th>\n      <td>E432XX77RUS</td>\n      <td>1</td>\n      <td>6500.00</td>\n      <td>Toyota</td>\n      <td>Camry</td>\n      <td>1995</td>\n      <td>ROSS</td>\n    </tr>\n    <tr>\n      <th>2</th>\n      <td>7184TT36RUS</td>\n      <td>1</td>\n      <td>2100.00</td>\n      <td>Ford</td>\n      <td>Focus</td>\n      <td>1984</td>\n      <td>MORGAN</td>\n    </tr>\n    <tr>\n      <th>3</th>\n      <td>X582HE161RUS</td>\n      <td>2</td>\n      <td>2000.00</td>\n      <td>Ford</td>\n      <td>Focus</td>\n      <td>2015</td>\n      <td>BAILEY</td>\n    </tr>\n    <tr>\n      <th>4</th>\n      <td>92918M178RUS</td>\n      <td>1</td>\n      <td>5700.00</td>\n      <td>Ford</td>\n      <td>Focus</td>\n      <td>2014</td>\n      <td>LOPEZ</td>\n    </tr>\n    <tr>\n      <th>...</th>\n      <td>...</td>\n      <td>...</td>\n      <td>...</td>\n      <td>...</td>\n      <td>...</td>\n      <td>...</td>\n      <td>...</td>\n    </tr>\n    <tr>\n      <th>925</th>\n      <td>SCHOOL21111RUS</td>\n      <td>2</td>\n      <td>2400.00</td>\n      <td>Ford</td>\n      <td>Focus</td>\n      <td>2000</td>\n      <td>NaN</td>\n    </tr>\n    <tr>\n      <th>926</th>\n      <td>SCHOOL21222RUS</td>\n      <td>1</td>\n      <td>2000.00</td>\n      <td>Volkswagen</td>\n      <td>Focus</td>\n      <td>1996</td>\n      <td>NaN</td>\n    </tr>\n    <tr>\n      <th>927</th>\n      <td>SCHOOL21333RUS</td>\n      <td>2</td>\n      <td>1100.00</td>\n      <td>Ford</td>\n      <td>Focus</td>\n      <td>2013</td>\n      <td>NaN</td>\n    </tr>\n    <tr>\n      <th>928</th>\n      <td>SCHOOL21444RUS</td>\n      <td>1</td>\n      <td>1600.00</td>\n      <td>Ford</td>\n      <td>Focus</td>\n      <td>1992</td>\n      <td>NaN</td>\n    </tr>\n    <tr>\n      <th>929</th>\n      <td>SCHOOL21555RUS</td>\n      <td>2</td>\n      <td>1000.00</td>\n      <td>Ford</td>\n      <td>Focus</td>\n      <td>2005</td>\n      <td>NaN</td>\n    </tr>\n  </tbody>\n</table>\n<p>930 rows × 7 columns</p>\n</div>"
     },
     "execution_count": 17,
     "metadata": {},
     "output_type": "execute_result"
    }
   ],
   "source": [
    "test3 = pd.merge(fines, owners_test, on='CarNumber', how='left')\n",
    "test3"
   ],
   "metadata": {
    "collapsed": false
   }
  },
  {
   "cell_type": "code",
   "execution_count": 18,
   "outputs": [
    {
     "data": {
      "text/plain": "          CarNumber Refund    Fines    Make    Model  Year     Surname\n0      Y163O8161RUS      2  3200.00    Ford    Focus  1989  RICHARDSON\n1      Y163O8161RUS      2  1600.00    Ford    Focus  1980  RICHARDSON\n2       E432XX77RUS      1  6500.00  Toyota    Camry  1995        ROSS\n3       E432XX77RUS      2 13000.00  Toyota    Camry  2018        ROSS\n4       7184TT36RUS      1  2100.00    Ford    Focus  1984      MORGAN\n..              ...    ...      ...     ...      ...   ...         ...\n897    7608EE777RUS      1  4000.00   Skoda  Octavia  2000        HILL\n898    7608EE777RUS      1  7900.00   Skoda  Octavia  1991        HILL\n899  SCHOOL21666RUS    NaN      NaN     NaN      NaN   NaN      WATSON\n900  SCHOOL21777RUS    NaN      NaN     NaN      NaN   NaN       JONES\n901  SCHOOL21888RUS    NaN      NaN     NaN      NaN   NaN     SANCHEZ\n\n[902 rows x 7 columns]",
      "text/html": "<div>\n<style scoped>\n    .dataframe tbody tr th:only-of-type {\n        vertical-align: middle;\n    }\n\n    .dataframe tbody tr th {\n        vertical-align: top;\n    }\n\n    .dataframe thead th {\n        text-align: right;\n    }\n</style>\n<table border=\"1\" class=\"dataframe\">\n  <thead>\n    <tr style=\"text-align: right;\">\n      <th></th>\n      <th>CarNumber</th>\n      <th>Refund</th>\n      <th>Fines</th>\n      <th>Make</th>\n      <th>Model</th>\n      <th>Year</th>\n      <th>Surname</th>\n    </tr>\n  </thead>\n  <tbody>\n    <tr>\n      <th>0</th>\n      <td>Y163O8161RUS</td>\n      <td>2</td>\n      <td>3200.00</td>\n      <td>Ford</td>\n      <td>Focus</td>\n      <td>1989</td>\n      <td>RICHARDSON</td>\n    </tr>\n    <tr>\n      <th>1</th>\n      <td>Y163O8161RUS</td>\n      <td>2</td>\n      <td>1600.00</td>\n      <td>Ford</td>\n      <td>Focus</td>\n      <td>1980</td>\n      <td>RICHARDSON</td>\n    </tr>\n    <tr>\n      <th>2</th>\n      <td>E432XX77RUS</td>\n      <td>1</td>\n      <td>6500.00</td>\n      <td>Toyota</td>\n      <td>Camry</td>\n      <td>1995</td>\n      <td>ROSS</td>\n    </tr>\n    <tr>\n      <th>3</th>\n      <td>E432XX77RUS</td>\n      <td>2</td>\n      <td>13000.00</td>\n      <td>Toyota</td>\n      <td>Camry</td>\n      <td>2018</td>\n      <td>ROSS</td>\n    </tr>\n    <tr>\n      <th>4</th>\n      <td>7184TT36RUS</td>\n      <td>1</td>\n      <td>2100.00</td>\n      <td>Ford</td>\n      <td>Focus</td>\n      <td>1984</td>\n      <td>MORGAN</td>\n    </tr>\n    <tr>\n      <th>...</th>\n      <td>...</td>\n      <td>...</td>\n      <td>...</td>\n      <td>...</td>\n      <td>...</td>\n      <td>...</td>\n      <td>...</td>\n    </tr>\n    <tr>\n      <th>897</th>\n      <td>7608EE777RUS</td>\n      <td>1</td>\n      <td>4000.00</td>\n      <td>Skoda</td>\n      <td>Octavia</td>\n      <td>2000</td>\n      <td>HILL</td>\n    </tr>\n    <tr>\n      <th>898</th>\n      <td>7608EE777RUS</td>\n      <td>1</td>\n      <td>7900.00</td>\n      <td>Skoda</td>\n      <td>Octavia</td>\n      <td>1991</td>\n      <td>HILL</td>\n    </tr>\n    <tr>\n      <th>899</th>\n      <td>SCHOOL21666RUS</td>\n      <td>NaN</td>\n      <td>NaN</td>\n      <td>NaN</td>\n      <td>NaN</td>\n      <td>NaN</td>\n      <td>WATSON</td>\n    </tr>\n    <tr>\n      <th>900</th>\n      <td>SCHOOL21777RUS</td>\n      <td>NaN</td>\n      <td>NaN</td>\n      <td>NaN</td>\n      <td>NaN</td>\n      <td>NaN</td>\n      <td>JONES</td>\n    </tr>\n    <tr>\n      <th>901</th>\n      <td>SCHOOL21888RUS</td>\n      <td>NaN</td>\n      <td>NaN</td>\n      <td>NaN</td>\n      <td>NaN</td>\n      <td>NaN</td>\n      <td>SANCHEZ</td>\n    </tr>\n  </tbody>\n</table>\n<p>902 rows × 7 columns</p>\n</div>"
     },
     "execution_count": 18,
     "metadata": {},
     "output_type": "execute_result"
    }
   ],
   "source": [
    "test4 = pd.merge(fines, owners_test, on='CarNumber', how='right')\n",
    "test4"
   ],
   "metadata": {
    "collapsed": false
   }
  },
  {
   "cell_type": "markdown",
   "source": [
    "## Create a pivot table from the `fines` dataframe in specified format"
   ],
   "metadata": {
    "collapsed": false
   }
  },
  {
   "cell_type": "code",
   "execution_count": 19,
   "outputs": [
    {
     "data": {
      "text/plain": "Year                   1980      1981      1982      1983      1984      1985  \\\nMake       Model                                                                \nFord       Focus   64089.17 411689.17 220878.35 105900.00 104694.59 126678.35   \n           Mondeo       NaN       NaN       NaN       NaN       NaN       NaN   \nSkoda      Octavia 54500.00       NaN  19900.00  11594.59       NaN  10294.59   \nToyota     Camry   12000.00   8594.59       NaN   7200.00       NaN       NaN   \n           Corolla      NaN       NaN   2000.00       NaN       NaN       NaN   \nVolkswagen Focus        NaN       NaN       NaN       NaN       NaN       NaN   \n           Golf    30900.00       NaN       NaN   8594.59    300.00  24000.00   \n           Jetta        NaN       NaN       NaN       NaN       NaN       NaN   \n           Passat       NaN   1600.00       NaN   3200.00  10000.00   5000.00   \n           Touareg      NaN       NaN       NaN       NaN       NaN   5800.00   \n\nYear                   1986     1987     1988      1989  ...      2010  \\\nMake       Model                                         ...             \nFord       Focus   96089.17 71300.00 94994.59 206494.59  ... 144783.76   \n           Mondeo       NaN      NaN      NaN   8600.00  ...       NaN   \nSkoda      Octavia   600.00  5200.00 10600.00  91400.00  ...   3100.00   \nToyota     Camry        NaN      NaN      NaN  22400.00  ...       NaN   \n           Corolla      NaN 24200.00      NaN   4000.00  ...  24000.00   \nVolkswagen Focus        NaN      NaN      NaN       NaN  ...       NaN   \n           Golf         NaN 14900.00      NaN   5800.00  ...       NaN   \n           Jetta        NaN      NaN      NaN       NaN  ...       NaN   \n           Passat  15000.00 12300.00      NaN       NaN  ...   2800.00   \n           Touareg      NaN      NaN      NaN       NaN  ...   6300.00   \n\nYear                    2011     2012      2013      2014      2015     2016  \\\nMake       Model                                                               \nFord       Focus   124089.17 93300.00 162794.59 379189.17 218694.59 80994.59   \n           Mondeo        NaN 34400.00       NaN       NaN       NaN 46200.00   \nSkoda      Octavia    500.00   500.00  12594.59    300.00  46394.59   300.00   \nToyota     Camry         NaN  8594.59       NaN   3900.00       NaN      NaN   \n           Corolla   8594.59  2500.00       NaN       NaN       NaN  8000.00   \nVolkswagen Focus         NaN      NaN       NaN       NaN       NaN      NaN   \n           Golf       300.00      NaN   9500.00       NaN   2300.00      NaN   \n           Jetta         NaN      NaN       NaN       NaN       NaN      NaN   \n           Passat        NaN      NaN       NaN       NaN    600.00  2100.00   \n           Touareg       NaN      NaN       NaN   1300.00    500.00      NaN   \n\nYear                    2017      2018     2019  \nMake       Model                                 \nFord       Focus   276789.17 280489.17 63000.00  \n           Mondeo        NaN       NaN      NaN  \nSkoda      Octavia    800.00 156200.00  9500.00  \nToyota     Camry         NaN  15000.00 18100.00  \n           Corolla   9600.00  18800.00      NaN  \nVolkswagen Focus         NaN       NaN      NaN  \n           Golf          NaN   7000.00      NaN  \n           Jetta         NaN       NaN      NaN  \n           Passat        NaN       NaN      NaN  \n           Touareg       NaN       NaN      NaN  \n\n[10 rows x 40 columns]",
      "text/html": "<div>\n<style scoped>\n    .dataframe tbody tr th:only-of-type {\n        vertical-align: middle;\n    }\n\n    .dataframe tbody tr th {\n        vertical-align: top;\n    }\n\n    .dataframe thead th {\n        text-align: right;\n    }\n</style>\n<table border=\"1\" class=\"dataframe\">\n  <thead>\n    <tr style=\"text-align: right;\">\n      <th></th>\n      <th>Year</th>\n      <th>1980</th>\n      <th>1981</th>\n      <th>1982</th>\n      <th>1983</th>\n      <th>1984</th>\n      <th>1985</th>\n      <th>1986</th>\n      <th>1987</th>\n      <th>1988</th>\n      <th>1989</th>\n      <th>...</th>\n      <th>2010</th>\n      <th>2011</th>\n      <th>2012</th>\n      <th>2013</th>\n      <th>2014</th>\n      <th>2015</th>\n      <th>2016</th>\n      <th>2017</th>\n      <th>2018</th>\n      <th>2019</th>\n    </tr>\n    <tr>\n      <th>Make</th>\n      <th>Model</th>\n      <th></th>\n      <th></th>\n      <th></th>\n      <th></th>\n      <th></th>\n      <th></th>\n      <th></th>\n      <th></th>\n      <th></th>\n      <th></th>\n      <th></th>\n      <th></th>\n      <th></th>\n      <th></th>\n      <th></th>\n      <th></th>\n      <th></th>\n      <th></th>\n      <th></th>\n      <th></th>\n      <th></th>\n    </tr>\n  </thead>\n  <tbody>\n    <tr>\n      <th rowspan=\"2\" valign=\"top\">Ford</th>\n      <th>Focus</th>\n      <td>64089.17</td>\n      <td>411689.17</td>\n      <td>220878.35</td>\n      <td>105900.00</td>\n      <td>104694.59</td>\n      <td>126678.35</td>\n      <td>96089.17</td>\n      <td>71300.00</td>\n      <td>94994.59</td>\n      <td>206494.59</td>\n      <td>...</td>\n      <td>144783.76</td>\n      <td>124089.17</td>\n      <td>93300.00</td>\n      <td>162794.59</td>\n      <td>379189.17</td>\n      <td>218694.59</td>\n      <td>80994.59</td>\n      <td>276789.17</td>\n      <td>280489.17</td>\n      <td>63000.00</td>\n    </tr>\n    <tr>\n      <th>Mondeo</th>\n      <td>NaN</td>\n      <td>NaN</td>\n      <td>NaN</td>\n      <td>NaN</td>\n      <td>NaN</td>\n      <td>NaN</td>\n      <td>NaN</td>\n      <td>NaN</td>\n      <td>NaN</td>\n      <td>8600.00</td>\n      <td>...</td>\n      <td>NaN</td>\n      <td>NaN</td>\n      <td>34400.00</td>\n      <td>NaN</td>\n      <td>NaN</td>\n      <td>NaN</td>\n      <td>46200.00</td>\n      <td>NaN</td>\n      <td>NaN</td>\n      <td>NaN</td>\n    </tr>\n    <tr>\n      <th>Skoda</th>\n      <th>Octavia</th>\n      <td>54500.00</td>\n      <td>NaN</td>\n      <td>19900.00</td>\n      <td>11594.59</td>\n      <td>NaN</td>\n      <td>10294.59</td>\n      <td>600.00</td>\n      <td>5200.00</td>\n      <td>10600.00</td>\n      <td>91400.00</td>\n      <td>...</td>\n      <td>3100.00</td>\n      <td>500.00</td>\n      <td>500.00</td>\n      <td>12594.59</td>\n      <td>300.00</td>\n      <td>46394.59</td>\n      <td>300.00</td>\n      <td>800.00</td>\n      <td>156200.00</td>\n      <td>9500.00</td>\n    </tr>\n    <tr>\n      <th rowspan=\"2\" valign=\"top\">Toyota</th>\n      <th>Camry</th>\n      <td>12000.00</td>\n      <td>8594.59</td>\n      <td>NaN</td>\n      <td>7200.00</td>\n      <td>NaN</td>\n      <td>NaN</td>\n      <td>NaN</td>\n      <td>NaN</td>\n      <td>NaN</td>\n      <td>22400.00</td>\n      <td>...</td>\n      <td>NaN</td>\n      <td>NaN</td>\n      <td>8594.59</td>\n      <td>NaN</td>\n      <td>3900.00</td>\n      <td>NaN</td>\n      <td>NaN</td>\n      <td>NaN</td>\n      <td>15000.00</td>\n      <td>18100.00</td>\n    </tr>\n    <tr>\n      <th>Corolla</th>\n      <td>NaN</td>\n      <td>NaN</td>\n      <td>2000.00</td>\n      <td>NaN</td>\n      <td>NaN</td>\n      <td>NaN</td>\n      <td>NaN</td>\n      <td>24200.00</td>\n      <td>NaN</td>\n      <td>4000.00</td>\n      <td>...</td>\n      <td>24000.00</td>\n      <td>8594.59</td>\n      <td>2500.00</td>\n      <td>NaN</td>\n      <td>NaN</td>\n      <td>NaN</td>\n      <td>8000.00</td>\n      <td>9600.00</td>\n      <td>18800.00</td>\n      <td>NaN</td>\n    </tr>\n    <tr>\n      <th rowspan=\"5\" valign=\"top\">Volkswagen</th>\n      <th>Focus</th>\n      <td>NaN</td>\n      <td>NaN</td>\n      <td>NaN</td>\n      <td>NaN</td>\n      <td>NaN</td>\n      <td>NaN</td>\n      <td>NaN</td>\n      <td>NaN</td>\n      <td>NaN</td>\n      <td>NaN</td>\n      <td>...</td>\n      <td>NaN</td>\n      <td>NaN</td>\n      <td>NaN</td>\n      <td>NaN</td>\n      <td>NaN</td>\n      <td>NaN</td>\n      <td>NaN</td>\n      <td>NaN</td>\n      <td>NaN</td>\n      <td>NaN</td>\n    </tr>\n    <tr>\n      <th>Golf</th>\n      <td>30900.00</td>\n      <td>NaN</td>\n      <td>NaN</td>\n      <td>8594.59</td>\n      <td>300.00</td>\n      <td>24000.00</td>\n      <td>NaN</td>\n      <td>14900.00</td>\n      <td>NaN</td>\n      <td>5800.00</td>\n      <td>...</td>\n      <td>NaN</td>\n      <td>300.00</td>\n      <td>NaN</td>\n      <td>9500.00</td>\n      <td>NaN</td>\n      <td>2300.00</td>\n      <td>NaN</td>\n      <td>NaN</td>\n      <td>7000.00</td>\n      <td>NaN</td>\n    </tr>\n    <tr>\n      <th>Jetta</th>\n      <td>NaN</td>\n      <td>NaN</td>\n      <td>NaN</td>\n      <td>NaN</td>\n      <td>NaN</td>\n      <td>NaN</td>\n      <td>NaN</td>\n      <td>NaN</td>\n      <td>NaN</td>\n      <td>NaN</td>\n      <td>...</td>\n      <td>NaN</td>\n      <td>NaN</td>\n      <td>NaN</td>\n      <td>NaN</td>\n      <td>NaN</td>\n      <td>NaN</td>\n      <td>NaN</td>\n      <td>NaN</td>\n      <td>NaN</td>\n      <td>NaN</td>\n    </tr>\n    <tr>\n      <th>Passat</th>\n      <td>NaN</td>\n      <td>1600.00</td>\n      <td>NaN</td>\n      <td>3200.00</td>\n      <td>10000.00</td>\n      <td>5000.00</td>\n      <td>15000.00</td>\n      <td>12300.00</td>\n      <td>NaN</td>\n      <td>NaN</td>\n      <td>...</td>\n      <td>2800.00</td>\n      <td>NaN</td>\n      <td>NaN</td>\n      <td>NaN</td>\n      <td>NaN</td>\n      <td>600.00</td>\n      <td>2100.00</td>\n      <td>NaN</td>\n      <td>NaN</td>\n      <td>NaN</td>\n    </tr>\n    <tr>\n      <th>Touareg</th>\n      <td>NaN</td>\n      <td>NaN</td>\n      <td>NaN</td>\n      <td>NaN</td>\n      <td>NaN</td>\n      <td>5800.00</td>\n      <td>NaN</td>\n      <td>NaN</td>\n      <td>NaN</td>\n      <td>NaN</td>\n      <td>...</td>\n      <td>6300.00</td>\n      <td>NaN</td>\n      <td>NaN</td>\n      <td>NaN</td>\n      <td>1300.00</td>\n      <td>500.00</td>\n      <td>NaN</td>\n      <td>NaN</td>\n      <td>NaN</td>\n      <td>NaN</td>\n    </tr>\n  </tbody>\n</table>\n<p>10 rows × 40 columns</p>\n</div>"
     },
     "execution_count": 19,
     "metadata": {},
     "output_type": "execute_result"
    }
   ],
   "source": [
    "pd.pivot_table(fines, columns='Year', values='Fines', index=['Make', 'Model'], aggfunc={'Fines': np.sum})"
   ],
   "metadata": {
    "collapsed": false
   }
  },
  {
   "cell_type": "markdown",
   "source": [
    "## Save both the `fines` and `owners` dataframes to CSV files without an index"
   ],
   "metadata": {
    "collapsed": false
   }
  },
  {
   "cell_type": "code",
   "execution_count": 20,
   "outputs": [],
   "source": [
    "fines.to_csv('../data/fines.csv', index=False)\n",
    "owners.to_csv('../data/owners.csv', index=False)"
   ],
   "metadata": {
    "collapsed": false
   }
  }
 ],
 "metadata": {
  "kernelspec": {
   "display_name": "Python 3",
   "language": "python",
   "name": "python3"
  },
  "language_info": {
   "codemirror_mode": {
    "name": "ipython",
    "version": 2
   },
   "file_extension": ".py",
   "mimetype": "text/x-python",
   "name": "python",
   "nbconvert_exporter": "python",
   "pygments_lexer": "ipython2",
   "version": "2.7.6"
  }
 },
 "nbformat": 4,
 "nbformat_minor": 0
}
